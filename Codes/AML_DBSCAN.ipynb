{
 "cells": [
  {
   "cell_type": "code",
   "execution_count": 19,
   "id": "78d9ec2a",
   "metadata": {},
   "outputs": [],
   "source": [
    "#importing libraries \n",
    "\n",
    "import numpy as np\n",
    "import pandas as pd\n",
    "import matplotlib.pyplot as plt\n",
    "import seaborn as sns"
   ]
  },
  {
   "cell_type": "code",
   "execution_count": 20,
   "id": "29e6e8d8",
   "metadata": {},
   "outputs": [],
   "source": [
    "#importing dataset\n",
    "\n",
    "dataset = pd.read_csv(\"C:/ML_Project/Datasets/FullDataSet.csv\")\n",
    "\n",
    "\n",
    "# dataset = pd.read_csv(\"C:/ML_Project/Datasets/DataSet_20k.csv\")"
   ]
  },
  {
   "cell_type": "code",
   "execution_count": 21,
   "id": "f1adca4f",
   "metadata": {},
   "outputs": [
    {
     "data": {
      "text/html": [
       "<div>\n",
       "<style scoped>\n",
       "    .dataframe tbody tr th:only-of-type {\n",
       "        vertical-align: middle;\n",
       "    }\n",
       "\n",
       "    .dataframe tbody tr th {\n",
       "        vertical-align: top;\n",
       "    }\n",
       "\n",
       "    .dataframe thead th {\n",
       "        text-align: right;\n",
       "    }\n",
       "</style>\n",
       "<table border=\"1\" class=\"dataframe\">\n",
       "  <thead>\n",
       "    <tr style=\"text-align: right;\">\n",
       "      <th></th>\n",
       "      <th>AvgAmount</th>\n",
       "      <th>MaxAmount</th>\n",
       "      <th>AvgCount</th>\n",
       "      <th>MaxCount</th>\n",
       "      <th>AccountType</th>\n",
       "      <th>ProductName</th>\n",
       "      <th>BranchId</th>\n",
       "      <th>RiskLevel</th>\n",
       "      <th>DepositTotal</th>\n",
       "      <th>WTotal</th>\n",
       "      <th>Amount</th>\n",
       "      <th>CategoryName</th>\n",
       "      <th>TransactionType</th>\n",
       "      <th>ScrCustomerType</th>\n",
       "      <th>LengthOfRelation</th>\n",
       "      <th>IsAlerted</th>\n",
       "      <th>IsReported</th>\n",
       "    </tr>\n",
       "  </thead>\n",
       "  <tbody>\n",
       "    <tr>\n",
       "      <th>0</th>\n",
       "      <td>14203</td>\n",
       "      <td>32543</td>\n",
       "      <td>65</td>\n",
       "      <td>192</td>\n",
       "      <td>Savings</td>\n",
       "      <td>EBL Junior</td>\n",
       "      <td>89</td>\n",
       "      <td>Low</td>\n",
       "      <td>160000.0</td>\n",
       "      <td>140000.0</td>\n",
       "      <td>20000</td>\n",
       "      <td>AC2</td>\n",
       "      <td>D</td>\n",
       "      <td>Individual</td>\n",
       "      <td>67.0</td>\n",
       "      <td>1</td>\n",
       "      <td>1</td>\n",
       "    </tr>\n",
       "    <tr>\n",
       "      <th>1</th>\n",
       "      <td>14203</td>\n",
       "      <td>32543</td>\n",
       "      <td>65</td>\n",
       "      <td>192</td>\n",
       "      <td>Savings</td>\n",
       "      <td>EBL Junior</td>\n",
       "      <td>89</td>\n",
       "      <td>Low</td>\n",
       "      <td>160000.0</td>\n",
       "      <td>140000.0</td>\n",
       "      <td>15</td>\n",
       "      <td>AC2</td>\n",
       "      <td>D</td>\n",
       "      <td>Individual</td>\n",
       "      <td>67.0</td>\n",
       "      <td>1</td>\n",
       "      <td>1</td>\n",
       "    </tr>\n",
       "    <tr>\n",
       "      <th>2</th>\n",
       "      <td>14203</td>\n",
       "      <td>32543</td>\n",
       "      <td>65</td>\n",
       "      <td>192</td>\n",
       "      <td>Savings</td>\n",
       "      <td>EBL Junior</td>\n",
       "      <td>89</td>\n",
       "      <td>Low</td>\n",
       "      <td>160000.0</td>\n",
       "      <td>140000.0</td>\n",
       "      <td>15</td>\n",
       "      <td>AC2</td>\n",
       "      <td>D</td>\n",
       "      <td>Individual</td>\n",
       "      <td>67.0</td>\n",
       "      <td>1</td>\n",
       "      <td>1</td>\n",
       "    </tr>\n",
       "    <tr>\n",
       "      <th>3</th>\n",
       "      <td>14203</td>\n",
       "      <td>32543</td>\n",
       "      <td>65</td>\n",
       "      <td>192</td>\n",
       "      <td>Savings</td>\n",
       "      <td>EBL Junior</td>\n",
       "      <td>89</td>\n",
       "      <td>Low</td>\n",
       "      <td>160000.0</td>\n",
       "      <td>140000.0</td>\n",
       "      <td>20000</td>\n",
       "      <td>AC2</td>\n",
       "      <td>D</td>\n",
       "      <td>Individual</td>\n",
       "      <td>67.0</td>\n",
       "      <td>1</td>\n",
       "      <td>1</td>\n",
       "    </tr>\n",
       "    <tr>\n",
       "      <th>4</th>\n",
       "      <td>14203</td>\n",
       "      <td>32543</td>\n",
       "      <td>65</td>\n",
       "      <td>192</td>\n",
       "      <td>Savings</td>\n",
       "      <td>EBL Junior</td>\n",
       "      <td>89</td>\n",
       "      <td>Low</td>\n",
       "      <td>160000.0</td>\n",
       "      <td>140000.0</td>\n",
       "      <td>15</td>\n",
       "      <td>AC2</td>\n",
       "      <td>D</td>\n",
       "      <td>Individual</td>\n",
       "      <td>67.0</td>\n",
       "      <td>1</td>\n",
       "      <td>1</td>\n",
       "    </tr>\n",
       "  </tbody>\n",
       "</table>\n",
       "</div>"
      ],
      "text/plain": [
       "   AvgAmount  MaxAmount  AvgCount  MaxCount AccountType ProductName  BranchId  \\\n",
       "0      14203      32543        65       192     Savings  EBL Junior        89   \n",
       "1      14203      32543        65       192     Savings  EBL Junior        89   \n",
       "2      14203      32543        65       192     Savings  EBL Junior        89   \n",
       "3      14203      32543        65       192     Savings  EBL Junior        89   \n",
       "4      14203      32543        65       192     Savings  EBL Junior        89   \n",
       "\n",
       "  RiskLevel  DepositTotal    WTotal  Amount CategoryName TransactionType  \\\n",
       "0       Low      160000.0  140000.0   20000          AC2               D   \n",
       "1       Low      160000.0  140000.0      15          AC2               D   \n",
       "2       Low      160000.0  140000.0      15          AC2               D   \n",
       "3       Low      160000.0  140000.0   20000          AC2               D   \n",
       "4       Low      160000.0  140000.0      15          AC2               D   \n",
       "\n",
       "  ScrCustomerType  LengthOfRelation  IsAlerted  IsReported  \n",
       "0      Individual              67.0          1           1  \n",
       "1      Individual              67.0          1           1  \n",
       "2      Individual              67.0          1           1  \n",
       "3      Individual              67.0          1           1  \n",
       "4      Individual              67.0          1           1  "
      ]
     },
     "execution_count": 21,
     "metadata": {},
     "output_type": "execute_result"
    }
   ],
   "source": [
    "#showing first 5 rows\n",
    "\n",
    "dataset.head()"
   ]
  },
  {
   "cell_type": "code",
   "execution_count": 22,
   "id": "9afe3eff",
   "metadata": {},
   "outputs": [
    {
     "data": {
      "text/html": [
       "<div>\n",
       "<style scoped>\n",
       "    .dataframe tbody tr th:only-of-type {\n",
       "        vertical-align: middle;\n",
       "    }\n",
       "\n",
       "    .dataframe tbody tr th {\n",
       "        vertical-align: top;\n",
       "    }\n",
       "\n",
       "    .dataframe thead th {\n",
       "        text-align: right;\n",
       "    }\n",
       "</style>\n",
       "<table border=\"1\" class=\"dataframe\">\n",
       "  <thead>\n",
       "    <tr style=\"text-align: right;\">\n",
       "      <th></th>\n",
       "      <th>AvgAmount</th>\n",
       "      <th>MaxAmount</th>\n",
       "      <th>AvgCount</th>\n",
       "      <th>MaxCount</th>\n",
       "      <th>AccountType</th>\n",
       "      <th>ProductName</th>\n",
       "      <th>BranchId</th>\n",
       "      <th>RiskLevel</th>\n",
       "      <th>DepositTotal</th>\n",
       "      <th>WTotal</th>\n",
       "      <th>Amount</th>\n",
       "      <th>CategoryName</th>\n",
       "      <th>TransactionType</th>\n",
       "      <th>ScrCustomerType</th>\n",
       "      <th>LengthOfRelation</th>\n",
       "      <th>IsAlerted</th>\n",
       "      <th>IsReported</th>\n",
       "    </tr>\n",
       "  </thead>\n",
       "  <tbody>\n",
       "    <tr>\n",
       "      <th>1048570</th>\n",
       "      <td>21197</td>\n",
       "      <td>114293</td>\n",
       "      <td>5</td>\n",
       "      <td>15</td>\n",
       "      <td>Savings</td>\n",
       "      <td>EBL Max Saver</td>\n",
       "      <td>49</td>\n",
       "      <td>Low</td>\n",
       "      <td>80000.0</td>\n",
       "      <td>70000.0</td>\n",
       "      <td>2400</td>\n",
       "      <td>CQW</td>\n",
       "      <td>D</td>\n",
       "      <td>Individual</td>\n",
       "      <td>75.0</td>\n",
       "      <td>0</td>\n",
       "      <td>0</td>\n",
       "    </tr>\n",
       "    <tr>\n",
       "      <th>1048571</th>\n",
       "      <td>2479</td>\n",
       "      <td>4424</td>\n",
       "      <td>6</td>\n",
       "      <td>16</td>\n",
       "      <td>Savings</td>\n",
       "      <td>EBL SALARY</td>\n",
       "      <td>53</td>\n",
       "      <td>Low</td>\n",
       "      <td>21000.0</td>\n",
       "      <td>19000.0</td>\n",
       "      <td>2423</td>\n",
       "      <td>CAA</td>\n",
       "      <td>C</td>\n",
       "      <td>Individual</td>\n",
       "      <td>24.0</td>\n",
       "      <td>0</td>\n",
       "      <td>0</td>\n",
       "    </tr>\n",
       "    <tr>\n",
       "      <th>1048572</th>\n",
       "      <td>480</td>\n",
       "      <td>500</td>\n",
       "      <td>1</td>\n",
       "      <td>2</td>\n",
       "      <td>Deposit Scheme above 12 lac</td>\n",
       "      <td>EBL CONFIDENCE</td>\n",
       "      <td>31</td>\n",
       "      <td>Low</td>\n",
       "      <td>0.0</td>\n",
       "      <td>0.0</td>\n",
       "      <td>500</td>\n",
       "      <td>RED</td>\n",
       "      <td>C</td>\n",
       "      <td>Individual</td>\n",
       "      <td>140.0</td>\n",
       "      <td>0</td>\n",
       "      <td>0</td>\n",
       "    </tr>\n",
       "    <tr>\n",
       "      <th>1048573</th>\n",
       "      <td>51864</td>\n",
       "      <td>547889</td>\n",
       "      <td>4</td>\n",
       "      <td>12</td>\n",
       "      <td>Savings</td>\n",
       "      <td>EBL Platinum Plus Savings</td>\n",
       "      <td>16</td>\n",
       "      <td>Low</td>\n",
       "      <td>100000.0</td>\n",
       "      <td>80000.0</td>\n",
       "      <td>10000</td>\n",
       "      <td>CQW</td>\n",
       "      <td>D</td>\n",
       "      <td>Individual</td>\n",
       "      <td>152.0</td>\n",
       "      <td>0</td>\n",
       "      <td>0</td>\n",
       "    </tr>\n",
       "    <tr>\n",
       "      <th>1048574</th>\n",
       "      <td>11377</td>\n",
       "      <td>63433</td>\n",
       "      <td>2</td>\n",
       "      <td>11</td>\n",
       "      <td>Savings</td>\n",
       "      <td>EBL Power Savings</td>\n",
       "      <td>18</td>\n",
       "      <td>Low</td>\n",
       "      <td>175000.0</td>\n",
       "      <td>60000.0</td>\n",
       "      <td>50000</td>\n",
       "      <td>CQW</td>\n",
       "      <td>D</td>\n",
       "      <td>Individual</td>\n",
       "      <td>112.0</td>\n",
       "      <td>0</td>\n",
       "      <td>0</td>\n",
       "    </tr>\n",
       "  </tbody>\n",
       "</table>\n",
       "</div>"
      ],
      "text/plain": [
       "         AvgAmount  MaxAmount  AvgCount  MaxCount  \\\n",
       "1048570      21197     114293         5        15   \n",
       "1048571       2479       4424         6        16   \n",
       "1048572        480        500         1         2   \n",
       "1048573      51864     547889         4        12   \n",
       "1048574      11377      63433         2        11   \n",
       "\n",
       "                         AccountType                ProductName  BranchId  \\\n",
       "1048570                      Savings              EBL Max Saver        49   \n",
       "1048571                      Savings                 EBL SALARY        53   \n",
       "1048572  Deposit Scheme above 12 lac             EBL CONFIDENCE        31   \n",
       "1048573                      Savings  EBL Platinum Plus Savings        16   \n",
       "1048574                      Savings          EBL Power Savings        18   \n",
       "\n",
       "        RiskLevel  DepositTotal   WTotal  Amount CategoryName TransactionType  \\\n",
       "1048570       Low       80000.0  70000.0    2400          CQW               D   \n",
       "1048571       Low       21000.0  19000.0    2423          CAA               C   \n",
       "1048572       Low           0.0      0.0     500          RED               C   \n",
       "1048573       Low      100000.0  80000.0   10000          CQW               D   \n",
       "1048574       Low      175000.0  60000.0   50000          CQW               D   \n",
       "\n",
       "        ScrCustomerType  LengthOfRelation  IsAlerted  IsReported  \n",
       "1048570      Individual              75.0          0           0  \n",
       "1048571      Individual              24.0          0           0  \n",
       "1048572      Individual             140.0          0           0  \n",
       "1048573      Individual             152.0          0           0  \n",
       "1048574      Individual             112.0          0           0  "
      ]
     },
     "execution_count": 22,
     "metadata": {},
     "output_type": "execute_result"
    }
   ],
   "source": [
    "#showing last 5 rows\n",
    "\n",
    "dataset.tail()"
   ]
  },
  {
   "cell_type": "code",
   "execution_count": 23,
   "id": "28d3892e",
   "metadata": {},
   "outputs": [
    {
     "name": "stdout",
     "output_type": "stream",
     "text": [
      "<class 'pandas.core.frame.DataFrame'>\n",
      "RangeIndex: 1048575 entries, 0 to 1048574\n",
      "Data columns (total 17 columns):\n",
      " #   Column            Non-Null Count    Dtype  \n",
      "---  ------            --------------    -----  \n",
      " 0   AvgAmount         1048575 non-null  int64  \n",
      " 1   MaxAmount         1048575 non-null  int64  \n",
      " 2   AvgCount          1048575 non-null  int64  \n",
      " 3   MaxCount          1048575 non-null  int64  \n",
      " 4   AccountType       1014108 non-null  object \n",
      " 5   ProductName       1048575 non-null  object \n",
      " 6   BranchId          1048575 non-null  int64  \n",
      " 7   RiskLevel         1048575 non-null  object \n",
      " 8   DepositTotal      1048575 non-null  float64\n",
      " 9   WTotal            1048575 non-null  float64\n",
      " 10  Amount            1048575 non-null  int64  \n",
      " 11  CategoryName      1048575 non-null  object \n",
      " 12  TransactionType   1048575 non-null  object \n",
      " 13  ScrCustomerType   1048575 non-null  object \n",
      " 14  LengthOfRelation  1048563 non-null  float64\n",
      " 15  IsAlerted         1048575 non-null  int64  \n",
      " 16  IsReported        1048575 non-null  int64  \n",
      "dtypes: float64(3), int64(8), object(6)\n",
      "memory usage: 136.0+ MB\n"
     ]
    }
   ],
   "source": [
    "dataset.info()"
   ]
  },
  {
   "cell_type": "code",
   "execution_count": 24,
   "id": "f6e629e7",
   "metadata": {},
   "outputs": [
    {
     "data": {
      "text/html": [
       "<div>\n",
       "<style scoped>\n",
       "    .dataframe tbody tr th:only-of-type {\n",
       "        vertical-align: middle;\n",
       "    }\n",
       "\n",
       "    .dataframe tbody tr th {\n",
       "        vertical-align: top;\n",
       "    }\n",
       "\n",
       "    .dataframe thead th {\n",
       "        text-align: right;\n",
       "    }\n",
       "</style>\n",
       "<table border=\"1\" class=\"dataframe\">\n",
       "  <thead>\n",
       "    <tr style=\"text-align: right;\">\n",
       "      <th></th>\n",
       "      <th>AvgAmount</th>\n",
       "      <th>MaxAmount</th>\n",
       "      <th>AvgCount</th>\n",
       "      <th>MaxCount</th>\n",
       "      <th>BranchId</th>\n",
       "      <th>DepositTotal</th>\n",
       "      <th>WTotal</th>\n",
       "      <th>Amount</th>\n",
       "      <th>LengthOfRelation</th>\n",
       "      <th>IsAlerted</th>\n",
       "      <th>IsReported</th>\n",
       "    </tr>\n",
       "  </thead>\n",
       "  <tbody>\n",
       "    <tr>\n",
       "      <th>count</th>\n",
       "      <td>1.048575e+06</td>\n",
       "      <td>1.048575e+06</td>\n",
       "      <td>1.048575e+06</td>\n",
       "      <td>1.048575e+06</td>\n",
       "      <td>1.048575e+06</td>\n",
       "      <td>1.048575e+06</td>\n",
       "      <td>1.048575e+06</td>\n",
       "      <td>1.048575e+06</td>\n",
       "      <td>1.048563e+06</td>\n",
       "      <td>1.048575e+06</td>\n",
       "      <td>1.048575e+06</td>\n",
       "    </tr>\n",
       "    <tr>\n",
       "      <th>mean</th>\n",
       "      <td>3.342814e+05</td>\n",
       "      <td>1.411647e+06</td>\n",
       "      <td>1.760311e+03</td>\n",
       "      <td>3.771006e+03</td>\n",
       "      <td>4.845973e+01</td>\n",
       "      <td>1.667577e+08</td>\n",
       "      <td>1.359963e+08</td>\n",
       "      <td>2.979239e+05</td>\n",
       "      <td>7.941522e+01</td>\n",
       "      <td>1.002465e-01</td>\n",
       "      <td>6.074911e-04</td>\n",
       "    </tr>\n",
       "    <tr>\n",
       "      <th>std</th>\n",
       "      <td>3.298077e+06</td>\n",
       "      <td>1.289631e+07</td>\n",
       "      <td>8.920551e+03</td>\n",
       "      <td>1.902581e+04</td>\n",
       "      <td>2.916941e+01</td>\n",
       "      <td>5.758000e+09</td>\n",
       "      <td>3.161147e+09</td>\n",
       "      <td>1.420305e+07</td>\n",
       "      <td>4.206924e+01</td>\n",
       "      <td>3.003286e-01</td>\n",
       "      <td>2.463986e-02</td>\n",
       "    </tr>\n",
       "    <tr>\n",
       "      <th>min</th>\n",
       "      <td>-3.629000e+04</td>\n",
       "      <td>0.000000e+00</td>\n",
       "      <td>1.000000e+00</td>\n",
       "      <td>1.000000e+00</td>\n",
       "      <td>1.000000e+00</td>\n",
       "      <td>0.000000e+00</td>\n",
       "      <td>0.000000e+00</td>\n",
       "      <td>-2.600000e+07</td>\n",
       "      <td>0.000000e+00</td>\n",
       "      <td>0.000000e+00</td>\n",
       "      <td>0.000000e+00</td>\n",
       "    </tr>\n",
       "    <tr>\n",
       "      <th>25%</th>\n",
       "      <td>7.376000e+03</td>\n",
       "      <td>2.132000e+04</td>\n",
       "      <td>4.000000e+00</td>\n",
       "      <td>1.300000e+01</td>\n",
       "      <td>3.100000e+01</td>\n",
       "      <td>5.000000e+04</td>\n",
       "      <td>4.000000e+04</td>\n",
       "      <td>5.000000e+02</td>\n",
       "      <td>4.500000e+01</td>\n",
       "      <td>0.000000e+00</td>\n",
       "      <td>0.000000e+00</td>\n",
       "    </tr>\n",
       "    <tr>\n",
       "      <th>50%</th>\n",
       "      <td>1.487000e+04</td>\n",
       "      <td>6.292600e+04</td>\n",
       "      <td>1.000000e+01</td>\n",
       "      <td>2.700000e+01</td>\n",
       "      <td>3.900000e+01</td>\n",
       "      <td>1.450000e+05</td>\n",
       "      <td>1.100000e+05</td>\n",
       "      <td>3.980000e+03</td>\n",
       "      <td>6.800000e+01</td>\n",
       "      <td>0.000000e+00</td>\n",
       "      <td>0.000000e+00</td>\n",
       "    </tr>\n",
       "    <tr>\n",
       "      <th>75%</th>\n",
       "      <td>4.726600e+04</td>\n",
       "      <td>2.381460e+05</td>\n",
       "      <td>2.300000e+01</td>\n",
       "      <td>5.900000e+01</td>\n",
       "      <td>8.300000e+01</td>\n",
       "      <td>6.000000e+05</td>\n",
       "      <td>4.500000e+05</td>\n",
       "      <td>2.000000e+04</td>\n",
       "      <td>1.110000e+02</td>\n",
       "      <td>0.000000e+00</td>\n",
       "      <td>0.000000e+00</td>\n",
       "    </tr>\n",
       "    <tr>\n",
       "      <th>max</th>\n",
       "      <td>2.632392e+08</td>\n",
       "      <td>1.492820e+09</td>\n",
       "      <td>7.228000e+04</td>\n",
       "      <td>1.555640e+05</td>\n",
       "      <td>9.800000e+01</td>\n",
       "      <td>2.000000e+12</td>\n",
       "      <td>6.510000e+11</td>\n",
       "      <td>4.000000e+09</td>\n",
       "      <td>1.530000e+02</td>\n",
       "      <td>1.000000e+00</td>\n",
       "      <td>1.000000e+00</td>\n",
       "    </tr>\n",
       "  </tbody>\n",
       "</table>\n",
       "</div>"
      ],
      "text/plain": [
       "          AvgAmount     MaxAmount      AvgCount      MaxCount      BranchId  \\\n",
       "count  1.048575e+06  1.048575e+06  1.048575e+06  1.048575e+06  1.048575e+06   \n",
       "mean   3.342814e+05  1.411647e+06  1.760311e+03  3.771006e+03  4.845973e+01   \n",
       "std    3.298077e+06  1.289631e+07  8.920551e+03  1.902581e+04  2.916941e+01   \n",
       "min   -3.629000e+04  0.000000e+00  1.000000e+00  1.000000e+00  1.000000e+00   \n",
       "25%    7.376000e+03  2.132000e+04  4.000000e+00  1.300000e+01  3.100000e+01   \n",
       "50%    1.487000e+04  6.292600e+04  1.000000e+01  2.700000e+01  3.900000e+01   \n",
       "75%    4.726600e+04  2.381460e+05  2.300000e+01  5.900000e+01  8.300000e+01   \n",
       "max    2.632392e+08  1.492820e+09  7.228000e+04  1.555640e+05  9.800000e+01   \n",
       "\n",
       "       DepositTotal        WTotal        Amount  LengthOfRelation  \\\n",
       "count  1.048575e+06  1.048575e+06  1.048575e+06      1.048563e+06   \n",
       "mean   1.667577e+08  1.359963e+08  2.979239e+05      7.941522e+01   \n",
       "std    5.758000e+09  3.161147e+09  1.420305e+07      4.206924e+01   \n",
       "min    0.000000e+00  0.000000e+00 -2.600000e+07      0.000000e+00   \n",
       "25%    5.000000e+04  4.000000e+04  5.000000e+02      4.500000e+01   \n",
       "50%    1.450000e+05  1.100000e+05  3.980000e+03      6.800000e+01   \n",
       "75%    6.000000e+05  4.500000e+05  2.000000e+04      1.110000e+02   \n",
       "max    2.000000e+12  6.510000e+11  4.000000e+09      1.530000e+02   \n",
       "\n",
       "          IsAlerted    IsReported  \n",
       "count  1.048575e+06  1.048575e+06  \n",
       "mean   1.002465e-01  6.074911e-04  \n",
       "std    3.003286e-01  2.463986e-02  \n",
       "min    0.000000e+00  0.000000e+00  \n",
       "25%    0.000000e+00  0.000000e+00  \n",
       "50%    0.000000e+00  0.000000e+00  \n",
       "75%    0.000000e+00  0.000000e+00  \n",
       "max    1.000000e+00  1.000000e+00  "
      ]
     },
     "execution_count": 24,
     "metadata": {},
     "output_type": "execute_result"
    }
   ],
   "source": [
    "dataset.describe()"
   ]
  },
  {
   "cell_type": "code",
   "execution_count": 25,
   "id": "6078adea",
   "metadata": {},
   "outputs": [
    {
     "data": {
      "text/plain": [
       "AvgAmount           326794\n",
       "MaxAmount           326794\n",
       "AvgCount            326794\n",
       "MaxCount            326794\n",
       "AccountType         313866\n",
       "ProductName         326794\n",
       "BranchId            326794\n",
       "RiskLevel           326794\n",
       "DepositTotal        326794\n",
       "WTotal              326794\n",
       "Amount              326794\n",
       "CategoryName        326794\n",
       "TransactionType     326794\n",
       "ScrCustomerType     326794\n",
       "LengthOfRelation    326794\n",
       "IsAlerted           326794\n",
       "IsReported          326794\n",
       "dtype: int64"
      ]
     },
     "execution_count": 25,
     "metadata": {},
     "output_type": "execute_result"
    }
   ],
   "source": [
    "#count rows which values are less than 1000\n",
    "\n",
    "dataset[dataset['Amount'] < 1000].count()"
   ]
  },
  {
   "cell_type": "code",
   "execution_count": 26,
   "id": "7ee2476b",
   "metadata": {},
   "outputs": [],
   "source": [
    "#eliminate rows which values are less than 1000\n",
    "\n",
    "dataset.drop(dataset[dataset['Amount'] < 1000].index, inplace=True)"
   ]
  },
  {
   "cell_type": "code",
   "execution_count": 27,
   "id": "b23484fb",
   "metadata": {},
   "outputs": [
    {
     "data": {
      "text/plain": [
       "AvgAmount           0\n",
       "MaxAmount           0\n",
       "AvgCount            0\n",
       "MaxCount            0\n",
       "AccountType         0\n",
       "ProductName         0\n",
       "BranchId            0\n",
       "RiskLevel           0\n",
       "DepositTotal        0\n",
       "WTotal              0\n",
       "Amount              0\n",
       "CategoryName        0\n",
       "TransactionType     0\n",
       "ScrCustomerType     0\n",
       "LengthOfRelation    0\n",
       "IsAlerted           0\n",
       "IsReported          0\n",
       "dtype: int64"
      ]
     },
     "execution_count": 27,
     "metadata": {},
     "output_type": "execute_result"
    }
   ],
   "source": [
    "dataset[dataset['Amount'] < 1000].count()"
   ]
  },
  {
   "cell_type": "code",
   "execution_count": 28,
   "id": "8cded8ed",
   "metadata": {},
   "outputs": [
    {
     "data": {
      "text/plain": [
       "AvgAmount               0\n",
       "MaxAmount               0\n",
       "AvgCount                0\n",
       "MaxCount                0\n",
       "AccountType         21539\n",
       "ProductName             0\n",
       "BranchId                0\n",
       "RiskLevel               0\n",
       "DepositTotal            0\n",
       "WTotal                  0\n",
       "Amount                  0\n",
       "CategoryName            0\n",
       "TransactionType         0\n",
       "ScrCustomerType         0\n",
       "LengthOfRelation       12\n",
       "IsAlerted               0\n",
       "IsReported              0\n",
       "dtype: int64"
      ]
     },
     "execution_count": 28,
     "metadata": {},
     "output_type": "execute_result"
    }
   ],
   "source": [
    "#checking null values\n",
    "\n",
    "dataset.isnull().sum()"
   ]
  },
  {
   "cell_type": "code",
   "execution_count": 29,
   "id": "b5835280",
   "metadata": {},
   "outputs": [],
   "source": [
    "dataset = dataset.dropna()"
   ]
  },
  {
   "cell_type": "code",
   "execution_count": 30,
   "id": "072415db",
   "metadata": {},
   "outputs": [
    {
     "data": {
      "text/plain": [
       "AvgAmount           0\n",
       "MaxAmount           0\n",
       "AvgCount            0\n",
       "MaxCount            0\n",
       "AccountType         0\n",
       "ProductName         0\n",
       "BranchId            0\n",
       "RiskLevel           0\n",
       "DepositTotal        0\n",
       "WTotal              0\n",
       "Amount              0\n",
       "CategoryName        0\n",
       "TransactionType     0\n",
       "ScrCustomerType     0\n",
       "LengthOfRelation    0\n",
       "IsAlerted           0\n",
       "IsReported          0\n",
       "dtype: int64"
      ]
     },
     "execution_count": 30,
     "metadata": {},
     "output_type": "execute_result"
    }
   ],
   "source": [
    "#checking null values\n",
    "\n",
    "dataset.isnull().sum()"
   ]
  },
  {
   "cell_type": "code",
   "execution_count": 31,
   "id": "79bf270a",
   "metadata": {},
   "outputs": [
    {
     "data": {
      "text/plain": [
       "(700230, 17)"
      ]
     },
     "execution_count": 31,
     "metadata": {},
     "output_type": "execute_result"
    }
   ],
   "source": [
    "#shape of the dataframe (row,column)\n",
    "\n",
    "dataset.shape"
   ]
  },
  {
   "cell_type": "code",
   "execution_count": 32,
   "id": "76f97761",
   "metadata": {},
   "outputs": [],
   "source": [
    "#fixed row-column which are useful for the algorithm\n",
    "\n",
    "y = dataset.iloc[:,:-1]"
   ]
  },
  {
   "cell_type": "code",
   "execution_count": 33,
   "id": "7db11d24",
   "metadata": {},
   "outputs": [
    {
     "data": {
      "text/html": [
       "<div>\n",
       "<style scoped>\n",
       "    .dataframe tbody tr th:only-of-type {\n",
       "        vertical-align: middle;\n",
       "    }\n",
       "\n",
       "    .dataframe tbody tr th {\n",
       "        vertical-align: top;\n",
       "    }\n",
       "\n",
       "    .dataframe thead th {\n",
       "        text-align: right;\n",
       "    }\n",
       "</style>\n",
       "<table border=\"1\" class=\"dataframe\">\n",
       "  <thead>\n",
       "    <tr style=\"text-align: right;\">\n",
       "      <th></th>\n",
       "      <th>AvgAmount</th>\n",
       "      <th>MaxAmount</th>\n",
       "      <th>AvgCount</th>\n",
       "      <th>MaxCount</th>\n",
       "      <th>AccountType</th>\n",
       "      <th>ProductName</th>\n",
       "      <th>BranchId</th>\n",
       "      <th>RiskLevel</th>\n",
       "      <th>DepositTotal</th>\n",
       "      <th>WTotal</th>\n",
       "      <th>Amount</th>\n",
       "      <th>CategoryName</th>\n",
       "      <th>TransactionType</th>\n",
       "      <th>ScrCustomerType</th>\n",
       "      <th>LengthOfRelation</th>\n",
       "      <th>IsAlerted</th>\n",
       "    </tr>\n",
       "  </thead>\n",
       "  <tbody>\n",
       "    <tr>\n",
       "      <th>0</th>\n",
       "      <td>14203</td>\n",
       "      <td>32543</td>\n",
       "      <td>65</td>\n",
       "      <td>192</td>\n",
       "      <td>Savings</td>\n",
       "      <td>EBL Junior</td>\n",
       "      <td>89</td>\n",
       "      <td>Low</td>\n",
       "      <td>160000.0</td>\n",
       "      <td>140000.0</td>\n",
       "      <td>20000</td>\n",
       "      <td>AC2</td>\n",
       "      <td>D</td>\n",
       "      <td>Individual</td>\n",
       "      <td>67.0</td>\n",
       "      <td>1</td>\n",
       "    </tr>\n",
       "    <tr>\n",
       "      <th>3</th>\n",
       "      <td>14203</td>\n",
       "      <td>32543</td>\n",
       "      <td>65</td>\n",
       "      <td>192</td>\n",
       "      <td>Savings</td>\n",
       "      <td>EBL Junior</td>\n",
       "      <td>89</td>\n",
       "      <td>Low</td>\n",
       "      <td>160000.0</td>\n",
       "      <td>140000.0</td>\n",
       "      <td>20000</td>\n",
       "      <td>AC2</td>\n",
       "      <td>D</td>\n",
       "      <td>Individual</td>\n",
       "      <td>67.0</td>\n",
       "      <td>1</td>\n",
       "    </tr>\n",
       "    <tr>\n",
       "      <th>5</th>\n",
       "      <td>144152</td>\n",
       "      <td>308962</td>\n",
       "      <td>67</td>\n",
       "      <td>146</td>\n",
       "      <td>Current</td>\n",
       "      <td>Current Deposits - SME</td>\n",
       "      <td>15</td>\n",
       "      <td>Low</td>\n",
       "      <td>3000000.0</td>\n",
       "      <td>2500000.0</td>\n",
       "      <td>40000</td>\n",
       "      <td>ACW</td>\n",
       "      <td>D</td>\n",
       "      <td>Entity</td>\n",
       "      <td>38.0</td>\n",
       "      <td>1</td>\n",
       "    </tr>\n",
       "    <tr>\n",
       "      <th>6</th>\n",
       "      <td>144152</td>\n",
       "      <td>308962</td>\n",
       "      <td>67</td>\n",
       "      <td>146</td>\n",
       "      <td>Current</td>\n",
       "      <td>Current Deposits - SME</td>\n",
       "      <td>15</td>\n",
       "      <td>Low</td>\n",
       "      <td>3000000.0</td>\n",
       "      <td>2500000.0</td>\n",
       "      <td>40000</td>\n",
       "      <td>ACW</td>\n",
       "      <td>D</td>\n",
       "      <td>Entity</td>\n",
       "      <td>38.0</td>\n",
       "      <td>1</td>\n",
       "    </tr>\n",
       "    <tr>\n",
       "      <th>7</th>\n",
       "      <td>144152</td>\n",
       "      <td>308962</td>\n",
       "      <td>67</td>\n",
       "      <td>146</td>\n",
       "      <td>Current</td>\n",
       "      <td>Current Deposits - SME</td>\n",
       "      <td>15</td>\n",
       "      <td>Low</td>\n",
       "      <td>3000000.0</td>\n",
       "      <td>2500000.0</td>\n",
       "      <td>40000</td>\n",
       "      <td>ACW</td>\n",
       "      <td>D</td>\n",
       "      <td>Entity</td>\n",
       "      <td>38.0</td>\n",
       "      <td>1</td>\n",
       "    </tr>\n",
       "    <tr>\n",
       "      <th>...</th>\n",
       "      <td>...</td>\n",
       "      <td>...</td>\n",
       "      <td>...</td>\n",
       "      <td>...</td>\n",
       "      <td>...</td>\n",
       "      <td>...</td>\n",
       "      <td>...</td>\n",
       "      <td>...</td>\n",
       "      <td>...</td>\n",
       "      <td>...</td>\n",
       "      <td>...</td>\n",
       "      <td>...</td>\n",
       "      <td>...</td>\n",
       "      <td>...</td>\n",
       "      <td>...</td>\n",
       "      <td>...</td>\n",
       "    </tr>\n",
       "    <tr>\n",
       "      <th>1048569</th>\n",
       "      <td>21073</td>\n",
       "      <td>54130</td>\n",
       "      <td>15</td>\n",
       "      <td>29</td>\n",
       "      <td>Savings</td>\n",
       "      <td>EBL Easy Account</td>\n",
       "      <td>56</td>\n",
       "      <td>Low</td>\n",
       "      <td>110000.0</td>\n",
       "      <td>90000.0</td>\n",
       "      <td>1829</td>\n",
       "      <td>CAA</td>\n",
       "      <td>C</td>\n",
       "      <td>Individual</td>\n",
       "      <td>39.0</td>\n",
       "      <td>0</td>\n",
       "    </tr>\n",
       "    <tr>\n",
       "      <th>1048570</th>\n",
       "      <td>21197</td>\n",
       "      <td>114293</td>\n",
       "      <td>5</td>\n",
       "      <td>15</td>\n",
       "      <td>Savings</td>\n",
       "      <td>EBL Max Saver</td>\n",
       "      <td>49</td>\n",
       "      <td>Low</td>\n",
       "      <td>80000.0</td>\n",
       "      <td>70000.0</td>\n",
       "      <td>2400</td>\n",
       "      <td>CQW</td>\n",
       "      <td>D</td>\n",
       "      <td>Individual</td>\n",
       "      <td>75.0</td>\n",
       "      <td>0</td>\n",
       "    </tr>\n",
       "    <tr>\n",
       "      <th>1048571</th>\n",
       "      <td>2479</td>\n",
       "      <td>4424</td>\n",
       "      <td>6</td>\n",
       "      <td>16</td>\n",
       "      <td>Savings</td>\n",
       "      <td>EBL SALARY</td>\n",
       "      <td>53</td>\n",
       "      <td>Low</td>\n",
       "      <td>21000.0</td>\n",
       "      <td>19000.0</td>\n",
       "      <td>2423</td>\n",
       "      <td>CAA</td>\n",
       "      <td>C</td>\n",
       "      <td>Individual</td>\n",
       "      <td>24.0</td>\n",
       "      <td>0</td>\n",
       "    </tr>\n",
       "    <tr>\n",
       "      <th>1048573</th>\n",
       "      <td>51864</td>\n",
       "      <td>547889</td>\n",
       "      <td>4</td>\n",
       "      <td>12</td>\n",
       "      <td>Savings</td>\n",
       "      <td>EBL Platinum Plus Savings</td>\n",
       "      <td>16</td>\n",
       "      <td>Low</td>\n",
       "      <td>100000.0</td>\n",
       "      <td>80000.0</td>\n",
       "      <td>10000</td>\n",
       "      <td>CQW</td>\n",
       "      <td>D</td>\n",
       "      <td>Individual</td>\n",
       "      <td>152.0</td>\n",
       "      <td>0</td>\n",
       "    </tr>\n",
       "    <tr>\n",
       "      <th>1048574</th>\n",
       "      <td>11377</td>\n",
       "      <td>63433</td>\n",
       "      <td>2</td>\n",
       "      <td>11</td>\n",
       "      <td>Savings</td>\n",
       "      <td>EBL Power Savings</td>\n",
       "      <td>18</td>\n",
       "      <td>Low</td>\n",
       "      <td>175000.0</td>\n",
       "      <td>60000.0</td>\n",
       "      <td>50000</td>\n",
       "      <td>CQW</td>\n",
       "      <td>D</td>\n",
       "      <td>Individual</td>\n",
       "      <td>112.0</td>\n",
       "      <td>0</td>\n",
       "    </tr>\n",
       "  </tbody>\n",
       "</table>\n",
       "<p>700230 rows × 16 columns</p>\n",
       "</div>"
      ],
      "text/plain": [
       "         AvgAmount  MaxAmount  AvgCount  MaxCount AccountType  \\\n",
       "0            14203      32543        65       192     Savings   \n",
       "3            14203      32543        65       192     Savings   \n",
       "5           144152     308962        67       146     Current   \n",
       "6           144152     308962        67       146     Current   \n",
       "7           144152     308962        67       146     Current   \n",
       "...            ...        ...       ...       ...         ...   \n",
       "1048569      21073      54130        15        29     Savings   \n",
       "1048570      21197     114293         5        15     Savings   \n",
       "1048571       2479       4424         6        16     Savings   \n",
       "1048573      51864     547889         4        12     Savings   \n",
       "1048574      11377      63433         2        11     Savings   \n",
       "\n",
       "                       ProductName  BranchId RiskLevel  DepositTotal  \\\n",
       "0                       EBL Junior        89       Low      160000.0   \n",
       "3                       EBL Junior        89       Low      160000.0   \n",
       "5           Current Deposits - SME        15       Low     3000000.0   \n",
       "6           Current Deposits - SME        15       Low     3000000.0   \n",
       "7           Current Deposits - SME        15       Low     3000000.0   \n",
       "...                            ...       ...       ...           ...   \n",
       "1048569           EBL Easy Account        56       Low      110000.0   \n",
       "1048570              EBL Max Saver        49       Low       80000.0   \n",
       "1048571                 EBL SALARY        53       Low       21000.0   \n",
       "1048573  EBL Platinum Plus Savings        16       Low      100000.0   \n",
       "1048574          EBL Power Savings        18       Low      175000.0   \n",
       "\n",
       "            WTotal  Amount CategoryName TransactionType ScrCustomerType  \\\n",
       "0         140000.0   20000          AC2               D      Individual   \n",
       "3         140000.0   20000          AC2               D      Individual   \n",
       "5        2500000.0   40000          ACW               D          Entity   \n",
       "6        2500000.0   40000          ACW               D          Entity   \n",
       "7        2500000.0   40000          ACW               D          Entity   \n",
       "...            ...     ...          ...             ...             ...   \n",
       "1048569    90000.0    1829          CAA               C      Individual   \n",
       "1048570    70000.0    2400          CQW               D      Individual   \n",
       "1048571    19000.0    2423          CAA               C      Individual   \n",
       "1048573    80000.0   10000          CQW               D      Individual   \n",
       "1048574    60000.0   50000          CQW               D      Individual   \n",
       "\n",
       "         LengthOfRelation  IsAlerted  \n",
       "0                    67.0          1  \n",
       "3                    67.0          1  \n",
       "5                    38.0          1  \n",
       "6                    38.0          1  \n",
       "7                    38.0          1  \n",
       "...                   ...        ...  \n",
       "1048569              39.0          0  \n",
       "1048570              75.0          0  \n",
       "1048571              24.0          0  \n",
       "1048573             152.0          0  \n",
       "1048574             112.0          0  \n",
       "\n",
       "[700230 rows x 16 columns]"
      ]
     },
     "execution_count": 33,
     "metadata": {},
     "output_type": "execute_result"
    }
   ],
   "source": [
    "y"
   ]
  },
  {
   "cell_type": "code",
   "execution_count": 34,
   "id": "fdc63f8d",
   "metadata": {},
   "outputs": [
    {
     "data": {
      "text/plain": [
       "0    605151\n",
       "1     95079\n",
       "Name: IsAlerted, dtype: int64"
      ]
     },
     "execution_count": 34,
     "metadata": {},
     "output_type": "execute_result"
    }
   ],
   "source": [
    "dataset['IsAlerted'].value_counts()"
   ]
  },
  {
   "cell_type": "code",
   "execution_count": 35,
   "id": "994033bc",
   "metadata": {},
   "outputs": [],
   "source": [
    "#applying label encoding\n",
    "\n",
    "from sklearn import preprocessing\n",
    "label_encoder = preprocessing.LabelEncoder()\n",
    "# from sklearn.compose import ColumnTransformer\n",
    "y['AccountType']= label_encoder.fit_transform(y['AccountType'])\n",
    "y['ProductName']= label_encoder.fit_transform(y['ProductName'])\n",
    "y['RiskLevel']= label_encoder.fit_transform(y['RiskLevel'])\n",
    "y['CategoryName']= label_encoder.fit_transform(y['CategoryName'])\n",
    "y['TransactionType']= label_encoder.fit_transform(y['TransactionType'])\n",
    "y['ScrCustomerType']= label_encoder.fit_transform(y['ScrCustomerType'])"
   ]
  },
  {
   "cell_type": "code",
   "execution_count": 36,
   "id": "886b8117",
   "metadata": {},
   "outputs": [],
   "source": [
    "#showing dataframe\n",
    "\n",
    "x = y.values"
   ]
  },
  {
   "cell_type": "code",
   "execution_count": 37,
   "id": "46528fc1",
   "metadata": {},
   "outputs": [
    {
     "data": {
      "text/plain": [
       "array([[1.42030e+04, 3.25430e+04, 6.50000e+01, ..., 1.00000e+00,\n",
       "        6.70000e+01, 1.00000e+00],\n",
       "       [1.42030e+04, 3.25430e+04, 6.50000e+01, ..., 1.00000e+00,\n",
       "        6.70000e+01, 1.00000e+00],\n",
       "       [1.44152e+05, 3.08962e+05, 6.70000e+01, ..., 0.00000e+00,\n",
       "        3.80000e+01, 1.00000e+00],\n",
       "       ...,\n",
       "       [2.47900e+03, 4.42400e+03, 6.00000e+00, ..., 1.00000e+00,\n",
       "        2.40000e+01, 0.00000e+00],\n",
       "       [5.18640e+04, 5.47889e+05, 4.00000e+00, ..., 1.00000e+00,\n",
       "        1.52000e+02, 0.00000e+00],\n",
       "       [1.13770e+04, 6.34330e+04, 2.00000e+00, ..., 1.00000e+00,\n",
       "        1.12000e+02, 0.00000e+00]])"
      ]
     },
     "execution_count": 37,
     "metadata": {},
     "output_type": "execute_result"
    }
   ],
   "source": [
    "x"
   ]
  },
  {
   "cell_type": "code",
   "execution_count": 38,
   "id": "f73bc316",
   "metadata": {},
   "outputs": [
    {
     "data": {
      "text/plain": [
       "(700230, 16)"
      ]
     },
     "execution_count": 38,
     "metadata": {},
     "output_type": "execute_result"
    }
   ],
   "source": [
    "x.shape"
   ]
  },
  {
   "cell_type": "code",
   "execution_count": 39,
   "id": "32439ad9",
   "metadata": {},
   "outputs": [
    {
     "data": {
      "text/plain": [
       "<matplotlib.collections.PathCollection at 0x15d8a557bb0>"
      ]
     },
     "execution_count": 39,
     "metadata": {},
     "output_type": "execute_result"
    },
    {
     "data": {
      "image/png": "[encoded data removed]",
      "text/plain": [
       "<Figure size 640x480 with 1 Axes>"
      ]
     },
     "metadata": {},
     "output_type": "display_data"
    }
   ],
   "source": [
    "#plotting in 2D view\n",
    "\n",
    "plt.scatter(x[:,1],x[:,4], s=10, c='black')"
   ]
  },
  {
   "cell_type": "code",
   "execution_count": 42,
   "id": "d7378e05",
   "metadata": {},
   "outputs": [
    {
     "data": {
      "text/plain": [
       "<seaborn.axisgrid.PairGrid at 0x157fce1a340>"
      ]
     },
     "execution_count": 42,
     "metadata": {},
     "output_type": "execute_result"
    },
    {
     "data": {
      "image/png": "[encoded data removed]",
      "text/plain": [
       "<Figure size 250x250 with 2 Axes>"
      ]
     },
     "metadata": {},
     "output_type": "display_data"
    }
   ],
   "source": [
    "#plotting using seasborn\n",
    "\n",
    "sns.pairplot(dataset.iloc[:,[3,9]])"
   ]
  },
  {
   "cell_type": "code",
   "execution_count": 40,
   "id": "ea289d23",
   "metadata": {},
   "outputs": [],
   "source": [
    "#Scaling the fields if necessary\n",
    "\n",
    "from sklearn.preprocessing import StandardScaler\n",
    "# x = dataset.iloc[:,[1,5]].values         #if we need any special column for scaling \n",
    "sc_x = StandardScaler()\n",
    "x = sc_x.fit_transform(x)"
   ]
  },
  {
   "cell_type": "code",
   "execution_count": 41,
   "id": "662f2daf",
   "metadata": {},
   "outputs": [],
   "source": [
    "#importing K-Means clustering\n",
    "\n",
    "from sklearn.cluster import KMeans"
   ]
  },
  {
   "cell_type": "code",
   "execution_count": 42,
   "id": "7276691d",
   "metadata": {},
   "outputs": [],
   "source": [
    "#elbow method applied\n",
    "\n",
    "wcss = []\n",
    "for i in range(1,21):\n",
    "    kmeans = KMeans(n_clusters=i, init='k-means++', max_iter=300, n_init=10)\n",
    "    kmeans.fit(x)\n",
    "    wcss.append(kmeans.inertia_)"
   ]
  },
  {
   "cell_type": "code",
   "execution_count": 43,
   "id": "3800e21c",
   "metadata": {},
   "outputs": [
    {
     "data": {
      "image/png": "[encoded data removed]",
      "text/plain": [
       "<Figure size 640x480 with 1 Axes>"
      ]
     },
     "metadata": {},
     "output_type": "display_data"
    }
   ],
   "source": [
    "#plotting of elbow method\n",
    "\n",
    "plt.plot(range(1,21),wcss)\n",
    "plt.title(\"Elbow Method\")\n",
    "plt.xlabel(\"Number of Clusters\")\n",
    "plt.ylabel(\"Within-Cluster Sum of Square\")\n",
    "plt.show()"
   ]
  },
  {
   "cell_type": "code",
   "execution_count": 23,
   "id": "05f4f476",
   "metadata": {},
   "outputs": [
    {
     "name": "stderr",
     "output_type": "stream",
     "text": [
      "C:\\ML_Project\\AML_ML\\venv\\lib\\site-packages\\sklearn\\cluster\\_kmeans.py:870: FutureWarning: The default value of `n_init` will change from 10 to 'auto' in 1.4. Set the value of `n_init` explicitly to suppress the warning\n",
      "  warnings.warn(\n"
     ]
    }
   ],
   "source": [
    "kmeans = KMeans(n_clusters = 5, init = 'k-means++', random_state = 42)\n",
    "labels = kmeans.fit_predict(x)"
   ]
  },
  {
   "cell_type": "code",
   "execution_count": null,
   "id": "4885637b",
   "metadata": {},
   "outputs": [],
   "source": [
    "from sklearn.neighbors import NearestNeighbors\n",
    "neighbors = NearestNeighbors(n_neighbors = 2)\n",
    "distances, indices = neighbors.fit(x).kneighbors(x)\n",
    "distances = distances[:,1]\n",
    "distances = np.sort(distances, axis=0)\n",
    "plt.plot(distances)"
   ]
  },
  {
   "cell_type": "code",
   "execution_count": null,
   "id": "62be1e0e",
   "metadata": {},
   "outputs": [],
   "source": [
    "#importing DBSCAN algorithm\n",
    "\n",
    "from sklearn.cluster import DBSCAN"
   ]
  },
  {
   "cell_type": "code",
   "execution_count": null,
   "id": "9773e441",
   "metadata": {},
   "outputs": [],
   "source": [
    "#value set and fit the model\n",
    "\n",
    "dbscan = DBSCAN(eps=10, min_samples=5)\n",
    "labels = dbscan.fit_predict(x)"
   ]
  },
  {
   "cell_type": "code",
   "execution_count": 131,
   "id": "8daa4a09",
   "metadata": {},
   "outputs": [
    {
     "data": {
      "text/plain": [
       "array([-1,  0,  1,  2,  3,  4,  5,  6,  7,  8,  9, 10, 11, 12, 13, 14],\n",
       "      dtype=int64)"
      ]
     },
     "execution_count": 131,
     "metadata": {},
     "output_type": "execute_result"
    }
   ],
   "source": [
    "#determining the number of clusters and outlier\n",
    "\n",
    "np.unique(labels)"
   ]
  },
  {
   "cell_type": "code",
   "execution_count": 229,
   "id": "c3d5d0b9",
   "metadata": {},
   "outputs": [
    {
     "data": {
      "text/plain": [
       "array([0.00058903, 0.00046508, 0.00037673, 0.00032919, 0.00032053,\n",
       "       0.00030965, 0.00030807, 0.00030411])"
      ]
     },
     "execution_count": 229,
     "metadata": {},
     "output_type": "execute_result"
    }
   ],
   "source": [
    "# from sklearn.decomposition import PCA\n",
    "# pca = PCA(n_components=8)\n",
    "# x_reduced = pca.fit_transform(x)\n",
    "# pca.explained_variance_ratio_"
   ]
  },
  {
   "cell_type": "code",
   "execution_count": 230,
   "id": "9163eaa7",
   "metadata": {},
   "outputs": [
    {
     "data": {
      "text/plain": [
       "0.0030023793226689674"
      ]
     },
     "execution_count": 230,
     "metadata": {},
     "output_type": "execute_result"
    }
   ],
   "source": [
    "# sum(pca.explained_variance_ratio_)"
   ]
  },
  {
   "cell_type": "code",
   "execution_count": 48,
   "id": "b51255cf",
   "metadata": {},
   "outputs": [
    {
     "data": {
      "image/png": "[encoded data removed]",
      "text/plain": [
       "<Figure size 800x800 with 1 Axes>"
      ]
     },
     "metadata": {},
     "output_type": "display_data"
    }
   ],
   "source": [
    "#plotting the final result (fixed dimension)\n",
    "\n",
    "plt.figure(figsize=(8,8))\n",
    "plt.scatter(x[labels == -1,0],x[labels == -1,1], s=10, c='black')    #outlier\n",
    "plt.scatter(x[labels == 0,0],x[labels == 0,1], s=10, c='red')        #class 1\n",
    "plt.scatter(x[labels == 1,0],x[labels == 1,1], s=10, c='blue')       #class 2\n",
    "plt.scatter(x[labels == 2,0],x[labels == 2,1], s=10, c='green')      #class 3\n",
    "plt.scatter(x[labels == 3,0],x[labels == 3,1], s=10, c='cyan')       #class 4\n",
    "plt.scatter(x[labels == 4,0],x[labels == 4,1], s=10, c='brown')      #class 5\n",
    "plt.scatter(x[labels == 5,0],x[labels == 5,1], s=10, c='aquamarine')\n",
    "plt.scatter(x[labels == 6,0],x[labels == 6,1], s=10, c='coral')\n",
    "plt.scatter(x[labels == 7,0],x[labels == 7,1], s=10, c='gold')\n",
    "plt.scatter(x[labels == 8,0],x[labels == 8,1], s=10, c='gray')\n",
    "plt.scatter(x[labels == 9,0],x[labels == 9,1], s=10, c='khaki')\n",
    "plt.scatter(x[labels == 10,0],x[labels == 10,1], s=10, c='magenta')\n",
    "plt.scatter(x[labels == 11,0],x[labels == 11,1], s=10, c='maroon')\n",
    "plt.scatter(x[labels == 12,0],x[labels == 12,1], s=10, c='navy')   \n",
    "plt.scatter(x[labels == 13,0],x[labels == 13,1], s=10, c='orange')     \n",
    "plt.scatter(x[labels == 14,0],x[labels == 14,1], s=10, c='plum')     \n",
    "# plt.scatter(x[labels == 15,0],x[labels == 15,1], s=10, c='sienna')      \n",
    "# plt.scatter(x[labels == 16,0],x[labels == 16,1], s=10, c='tan')       \n",
    "# plt.scatter(x[labels == 17,0],x[labels == 17,1], s=10, c='turquoise')      \n",
    "# plt.scatter(x[labels == 18,0],x[labels == 18,1], s=10, c='violet')\n",
    "# plt.scatter(x[labels == 19,0],x[labels == 19,1], s=10, c='wheat')\n",
    "# plt.scatter(x[labels == 20,0],x[labels == 20,1], s=10, c='yellow')\n",
    "# plt.scatter(x[labels == 21,0],x[labels == 21,1], s=10, c='pink')\n",
    "# plt.scatter(x[labels == 22,0],x[labels == 22,1], s=10, c='darkblue')\n",
    "# plt.scatter(x[labels == 23,0],x[labels == 23,1], s=10, c='olive')\n",
    "# plt.scatter(x[labels == 24,0],x[labels == 24,1], s=10, c='salmon')\n",
    "# plt.scatter(x[labels == 25,0],x[labels == 25,1], s=10, c='orchid')\n",
    "\n",
    "plt.title(\"DBSCAN Clustering\")\n",
    "plt.xlabel(\"\")\n",
    "plt.ylabel(\"\")\n",
    "plt.show()"
   ]
  },
  {
   "cell_type": "code",
   "execution_count": 368,
   "id": "a8757f89",
   "metadata": {},
   "outputs": [
    {
     "data": {
      "image/png": "[encoded data removed]",
      "text/plain": [
       "<Figure size 600x600 with 1 Axes>"
      ]
     },
     "metadata": {},
     "output_type": "display_data"
    }
   ],
   "source": [
    "#plotting the final result (using PCA/after dimension reduction)\n",
    "\n",
    "colors = ['red','blue','green','yellow','pink','brown','cyan','black']\n",
    "\n",
    "plt.figure(figsize=(6,6))\n",
    "for i in range(5):\n",
    "    plt.scatter(x_reduced[labels == i,0],x[labels == i,1], s=10, c=colors[i], label = 'Cluster '+str(i+1))\n",
    "    \n",
    "plt.title(\"DBSCAN Clustering\")\n",
    "plt.xlabel(\"\")\n",
    "plt.ylabel(\"\")\n",
    "plt.show()"
   ]
  },
  {
   "cell_type": "code",
   "execution_count": null,
   "id": "5507ff97",
   "metadata": {},
   "outputs": [],
   "source": []
  }
 ],
 "metadata": {
  "kernelspec": {
   "display_name": "Python 3 (ipykernel)",
   "language": "python",
   "name": "python3"
  },
  "language_info": {
   "codemirror_mode": {
    "name": "ipython",
    "version": 3
   },
   "file_extension": ".py",
   "mimetype": "text/x-python",
   "name": "python",
   "nbconvert_exporter": "python",
   "pygments_lexer": "ipython3",
   "version": "3.9.13"
  }
 },
 "nbformat": 4,
 "nbformat_minor": 5
}
