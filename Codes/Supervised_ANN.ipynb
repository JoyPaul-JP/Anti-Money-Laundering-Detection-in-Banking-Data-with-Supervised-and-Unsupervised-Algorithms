{
 "cells": [
  {
   "cell_type": "code",
   "execution_count": 1,
   "id": "3e82b540",
   "metadata": {},
   "outputs": [],
   "source": [
    "#importing libraries\n",
    "\n",
    "import numpy as np\n",
    "import matplotlib.pyplot as plt\n",
    "import pandas as pd\n",
    "import keras\n",
    "from itertools import cycle\n",
    "import imblearn\n",
    "import seaborn as sns"
   ]
  },
  {
   "cell_type": "code",
   "execution_count": 2,
   "id": "097425c0",
   "metadata": {},
   "outputs": [],
   "source": [
    "#importing dataset\n",
    "\n",
    "dataset = pd.read_csv(\"C:/ML_Project/Datasets/FullDataSet.csv\")"
   ]
  },
  {
   "cell_type": "code",
   "execution_count": 3,
   "id": "fcf67b62",
   "metadata": {},
   "outputs": [
    {
     "data": {
      "text/html": [
       "<div>\n",
       "<style scoped>\n",
       "    .dataframe tbody tr th:only-of-type {\n",
       "        vertical-align: middle;\n",
       "    }\n",
       "\n",
       "    .dataframe tbody tr th {\n",
       "        vertical-align: top;\n",
       "    }\n",
       "\n",
       "    .dataframe thead th {\n",
       "        text-align: right;\n",
       "    }\n",
       "</style>\n",
       "<table border=\"1\" class=\"dataframe\">\n",
       "  <thead>\n",
       "    <tr style=\"text-align: right;\">\n",
       "      <th></th>\n",
       "      <th>AvgAmount</th>\n",
       "      <th>MaxAmount</th>\n",
       "      <th>AvgCount</th>\n",
       "      <th>MaxCount</th>\n",
       "      <th>AccountType</th>\n",
       "      <th>ProductName</th>\n",
       "      <th>BranchId</th>\n",
       "      <th>RiskLevel</th>\n",
       "      <th>DepositTotal</th>\n",
       "      <th>WTotal</th>\n",
       "      <th>Amount</th>\n",
       "      <th>CategoryName</th>\n",
       "      <th>TransactionType</th>\n",
       "      <th>ScrCustomerType</th>\n",
       "      <th>LengthOfRelation</th>\n",
       "      <th>IsAlerted</th>\n",
       "      <th>IsReported</th>\n",
       "    </tr>\n",
       "  </thead>\n",
       "  <tbody>\n",
       "    <tr>\n",
       "      <th>0</th>\n",
       "      <td>14203</td>\n",
       "      <td>32543</td>\n",
       "      <td>65</td>\n",
       "      <td>192</td>\n",
       "      <td>Savings</td>\n",
       "      <td>EBL Junior</td>\n",
       "      <td>89</td>\n",
       "      <td>Low</td>\n",
       "      <td>160000.0</td>\n",
       "      <td>140000.0</td>\n",
       "      <td>20000</td>\n",
       "      <td>AC2</td>\n",
       "      <td>D</td>\n",
       "      <td>Individual</td>\n",
       "      <td>67.0</td>\n",
       "      <td>1</td>\n",
       "      <td>1</td>\n",
       "    </tr>\n",
       "    <tr>\n",
       "      <th>1</th>\n",
       "      <td>14203</td>\n",
       "      <td>32543</td>\n",
       "      <td>65</td>\n",
       "      <td>192</td>\n",
       "      <td>Savings</td>\n",
       "      <td>EBL Junior</td>\n",
       "      <td>89</td>\n",
       "      <td>Low</td>\n",
       "      <td>160000.0</td>\n",
       "      <td>140000.0</td>\n",
       "      <td>15</td>\n",
       "      <td>AC2</td>\n",
       "      <td>D</td>\n",
       "      <td>Individual</td>\n",
       "      <td>67.0</td>\n",
       "      <td>1</td>\n",
       "      <td>1</td>\n",
       "    </tr>\n",
       "    <tr>\n",
       "      <th>2</th>\n",
       "      <td>14203</td>\n",
       "      <td>32543</td>\n",
       "      <td>65</td>\n",
       "      <td>192</td>\n",
       "      <td>Savings</td>\n",
       "      <td>EBL Junior</td>\n",
       "      <td>89</td>\n",
       "      <td>Low</td>\n",
       "      <td>160000.0</td>\n",
       "      <td>140000.0</td>\n",
       "      <td>15</td>\n",
       "      <td>AC2</td>\n",
       "      <td>D</td>\n",
       "      <td>Individual</td>\n",
       "      <td>67.0</td>\n",
       "      <td>1</td>\n",
       "      <td>1</td>\n",
       "    </tr>\n",
       "    <tr>\n",
       "      <th>3</th>\n",
       "      <td>14203</td>\n",
       "      <td>32543</td>\n",
       "      <td>65</td>\n",
       "      <td>192</td>\n",
       "      <td>Savings</td>\n",
       "      <td>EBL Junior</td>\n",
       "      <td>89</td>\n",
       "      <td>Low</td>\n",
       "      <td>160000.0</td>\n",
       "      <td>140000.0</td>\n",
       "      <td>20000</td>\n",
       "      <td>AC2</td>\n",
       "      <td>D</td>\n",
       "      <td>Individual</td>\n",
       "      <td>67.0</td>\n",
       "      <td>1</td>\n",
       "      <td>1</td>\n",
       "    </tr>\n",
       "    <tr>\n",
       "      <th>4</th>\n",
       "      <td>14203</td>\n",
       "      <td>32543</td>\n",
       "      <td>65</td>\n",
       "      <td>192</td>\n",
       "      <td>Savings</td>\n",
       "      <td>EBL Junior</td>\n",
       "      <td>89</td>\n",
       "      <td>Low</td>\n",
       "      <td>160000.0</td>\n",
       "      <td>140000.0</td>\n",
       "      <td>15</td>\n",
       "      <td>AC2</td>\n",
       "      <td>D</td>\n",
       "      <td>Individual</td>\n",
       "      <td>67.0</td>\n",
       "      <td>1</td>\n",
       "      <td>1</td>\n",
       "    </tr>\n",
       "  </tbody>\n",
       "</table>\n",
       "</div>"
      ],
      "text/plain": [
       "   AvgAmount  MaxAmount  AvgCount  MaxCount AccountType ProductName  BranchId  \\\n",
       "0      14203      32543        65       192     Savings  EBL Junior        89   \n",
       "1      14203      32543        65       192     Savings  EBL Junior        89   \n",
       "2      14203      32543        65       192     Savings  EBL Junior        89   \n",
       "3      14203      32543        65       192     Savings  EBL Junior        89   \n",
       "4      14203      32543        65       192     Savings  EBL Junior        89   \n",
       "\n",
       "  RiskLevel  DepositTotal    WTotal  Amount CategoryName TransactionType  \\\n",
       "0       Low      160000.0  140000.0   20000          AC2               D   \n",
       "1       Low      160000.0  140000.0      15          AC2               D   \n",
       "2       Low      160000.0  140000.0      15          AC2               D   \n",
       "3       Low      160000.0  140000.0   20000          AC2               D   \n",
       "4       Low      160000.0  140000.0      15          AC2               D   \n",
       "\n",
       "  ScrCustomerType  LengthOfRelation  IsAlerted  IsReported  \n",
       "0      Individual              67.0          1           1  \n",
       "1      Individual              67.0          1           1  \n",
       "2      Individual              67.0          1           1  \n",
       "3      Individual              67.0          1           1  \n",
       "4      Individual              67.0          1           1  "
      ]
     },
     "execution_count": 3,
     "metadata": {},
     "output_type": "execute_result"
    }
   ],
   "source": [
    "#view first 5 data\n",
    "\n",
    "dataset.head()"
   ]
  },
  {
   "cell_type": "code",
   "execution_count": 4,
   "id": "49140e8f",
   "metadata": {},
   "outputs": [
    {
     "name": "stdout",
     "output_type": "stream",
     "text": [
      "<class 'pandas.core.frame.DataFrame'>\n",
      "RangeIndex: 1048575 entries, 0 to 1048574\n",
      "Data columns (total 17 columns):\n",
      " #   Column            Non-Null Count    Dtype  \n",
      "---  ------            --------------    -----  \n",
      " 0   AvgAmount         1048575 non-null  int64  \n",
      " 1   MaxAmount         1048575 non-null  int64  \n",
      " 2   AvgCount          1048575 non-null  int64  \n",
      " 3   MaxCount          1048575 non-null  int64  \n",
      " 4   AccountType       1014108 non-null  object \n",
      " 5   ProductName       1048575 non-null  object \n",
      " 6   BranchId          1048575 non-null  int64  \n",
      " 7   RiskLevel         1048575 non-null  object \n",
      " 8   DepositTotal      1048575 non-null  float64\n",
      " 9   WTotal            1048575 non-null  float64\n",
      " 10  Amount            1048575 non-null  int64  \n",
      " 11  CategoryName      1048575 non-null  object \n",
      " 12  TransactionType   1048575 non-null  object \n",
      " 13  ScrCustomerType   1048575 non-null  object \n",
      " 14  LengthOfRelation  1048563 non-null  float64\n",
      " 15  IsAlerted         1048575 non-null  int64  \n",
      " 16  IsReported        1048575 non-null  int64  \n",
      "dtypes: float64(3), int64(8), object(6)\n",
      "memory usage: 136.0+ MB\n"
     ]
    }
   ],
   "source": [
    "#info about dataset\n",
    "\n",
    "dataset.info()"
   ]
  },
  {
   "cell_type": "code",
   "execution_count": 5,
   "id": "dab64323",
   "metadata": {},
   "outputs": [
    {
     "data": {
      "text/plain": [
       "(1048575, 17)"
      ]
     },
     "execution_count": 5,
     "metadata": {},
     "output_type": "execute_result"
    }
   ],
   "source": [
    "#shape of dataset\n",
    "\n",
    "dataset.shape"
   ]
  },
  {
   "cell_type": "code",
   "execution_count": 6,
   "id": "c040c801",
   "metadata": {},
   "outputs": [
    {
     "data": {
      "text/plain": [
       "0    1047938\n",
       "1        637\n",
       "Name: IsReported, dtype: int64"
      ]
     },
     "execution_count": 6,
     "metadata": {},
     "output_type": "execute_result"
    }
   ],
   "source": [
    "#target column value count\n",
    "\n",
    "dataset['IsReported'].value_counts()"
   ]
  },
  {
   "cell_type": "code",
   "execution_count": 7,
   "id": "4af10f05",
   "metadata": {},
   "outputs": [],
   "source": [
    "#applying label encoding\n",
    "\n",
    "from sklearn import preprocessing\n",
    "label_encoder = preprocessing.LabelEncoder()\n",
    "# from sklearn.compose import ColumnTransformer\n",
    "dataset['AccountType']= label_encoder.fit_transform(dataset['AccountType'])\n",
    "dataset['ProductName']= label_encoder.fit_transform(dataset['ProductName'])\n",
    "dataset['RiskLevel']= label_encoder.fit_transform(dataset['RiskLevel'])\n",
    "dataset['CategoryName']= label_encoder.fit_transform(dataset['CategoryName'])\n",
    "dataset['TransactionType']= label_encoder.fit_transform(dataset['TransactionType'])\n",
    "dataset['ScrCustomerType']= label_encoder.fit_transform(dataset['ScrCustomerType'])"
   ]
  },
  {
   "cell_type": "code",
   "execution_count": 8,
   "id": "c8e6403e",
   "metadata": {},
   "outputs": [],
   "source": [
    "# #applying onehot encoding\n",
    "\n",
    "# onehotencoder = preprocessing.OneHotEncoder()\n",
    "# x = onehotencoder.fit_transform(x).toarray()"
   ]
  },
  {
   "cell_type": "code",
   "execution_count": 9,
   "id": "41bfafff",
   "metadata": {},
   "outputs": [
    {
     "data": {
      "text/html": [
       "<div>\n",
       "<style scoped>\n",
       "    .dataframe tbody tr th:only-of-type {\n",
       "        vertical-align: middle;\n",
       "    }\n",
       "\n",
       "    .dataframe tbody tr th {\n",
       "        vertical-align: top;\n",
       "    }\n",
       "\n",
       "    .dataframe thead th {\n",
       "        text-align: right;\n",
       "    }\n",
       "</style>\n",
       "<table border=\"1\" class=\"dataframe\">\n",
       "  <thead>\n",
       "    <tr style=\"text-align: right;\">\n",
       "      <th></th>\n",
       "      <th>AvgAmount</th>\n",
       "      <th>MaxAmount</th>\n",
       "      <th>AvgCount</th>\n",
       "      <th>MaxCount</th>\n",
       "      <th>AccountType</th>\n",
       "      <th>ProductName</th>\n",
       "      <th>BranchId</th>\n",
       "      <th>RiskLevel</th>\n",
       "      <th>DepositTotal</th>\n",
       "      <th>WTotal</th>\n",
       "      <th>Amount</th>\n",
       "      <th>CategoryName</th>\n",
       "      <th>TransactionType</th>\n",
       "      <th>ScrCustomerType</th>\n",
       "      <th>LengthOfRelation</th>\n",
       "      <th>IsAlerted</th>\n",
       "      <th>IsReported</th>\n",
       "    </tr>\n",
       "  </thead>\n",
       "  <tbody>\n",
       "    <tr>\n",
       "      <th>0</th>\n",
       "      <td>14203</td>\n",
       "      <td>32543</td>\n",
       "      <td>65</td>\n",
       "      <td>192</td>\n",
       "      <td>7</td>\n",
       "      <td>32</td>\n",
       "      <td>89</td>\n",
       "      <td>2</td>\n",
       "      <td>160000.0</td>\n",
       "      <td>140000.0</td>\n",
       "      <td>20000</td>\n",
       "      <td>4</td>\n",
       "      <td>1</td>\n",
       "      <td>1</td>\n",
       "      <td>67.0</td>\n",
       "      <td>1</td>\n",
       "      <td>1</td>\n",
       "    </tr>\n",
       "    <tr>\n",
       "      <th>1</th>\n",
       "      <td>14203</td>\n",
       "      <td>32543</td>\n",
       "      <td>65</td>\n",
       "      <td>192</td>\n",
       "      <td>7</td>\n",
       "      <td>32</td>\n",
       "      <td>89</td>\n",
       "      <td>2</td>\n",
       "      <td>160000.0</td>\n",
       "      <td>140000.0</td>\n",
       "      <td>15</td>\n",
       "      <td>4</td>\n",
       "      <td>1</td>\n",
       "      <td>1</td>\n",
       "      <td>67.0</td>\n",
       "      <td>1</td>\n",
       "      <td>1</td>\n",
       "    </tr>\n",
       "    <tr>\n",
       "      <th>2</th>\n",
       "      <td>14203</td>\n",
       "      <td>32543</td>\n",
       "      <td>65</td>\n",
       "      <td>192</td>\n",
       "      <td>7</td>\n",
       "      <td>32</td>\n",
       "      <td>89</td>\n",
       "      <td>2</td>\n",
       "      <td>160000.0</td>\n",
       "      <td>140000.0</td>\n",
       "      <td>15</td>\n",
       "      <td>4</td>\n",
       "      <td>1</td>\n",
       "      <td>1</td>\n",
       "      <td>67.0</td>\n",
       "      <td>1</td>\n",
       "      <td>1</td>\n",
       "    </tr>\n",
       "    <tr>\n",
       "      <th>3</th>\n",
       "      <td>14203</td>\n",
       "      <td>32543</td>\n",
       "      <td>65</td>\n",
       "      <td>192</td>\n",
       "      <td>7</td>\n",
       "      <td>32</td>\n",
       "      <td>89</td>\n",
       "      <td>2</td>\n",
       "      <td>160000.0</td>\n",
       "      <td>140000.0</td>\n",
       "      <td>20000</td>\n",
       "      <td>4</td>\n",
       "      <td>1</td>\n",
       "      <td>1</td>\n",
       "      <td>67.0</td>\n",
       "      <td>1</td>\n",
       "      <td>1</td>\n",
       "    </tr>\n",
       "    <tr>\n",
       "      <th>4</th>\n",
       "      <td>14203</td>\n",
       "      <td>32543</td>\n",
       "      <td>65</td>\n",
       "      <td>192</td>\n",
       "      <td>7</td>\n",
       "      <td>32</td>\n",
       "      <td>89</td>\n",
       "      <td>2</td>\n",
       "      <td>160000.0</td>\n",
       "      <td>140000.0</td>\n",
       "      <td>15</td>\n",
       "      <td>4</td>\n",
       "      <td>1</td>\n",
       "      <td>1</td>\n",
       "      <td>67.0</td>\n",
       "      <td>1</td>\n",
       "      <td>1</td>\n",
       "    </tr>\n",
       "    <tr>\n",
       "      <th>...</th>\n",
       "      <td>...</td>\n",
       "      <td>...</td>\n",
       "      <td>...</td>\n",
       "      <td>...</td>\n",
       "      <td>...</td>\n",
       "      <td>...</td>\n",
       "      <td>...</td>\n",
       "      <td>...</td>\n",
       "      <td>...</td>\n",
       "      <td>...</td>\n",
       "      <td>...</td>\n",
       "      <td>...</td>\n",
       "      <td>...</td>\n",
       "      <td>...</td>\n",
       "      <td>...</td>\n",
       "      <td>...</td>\n",
       "      <td>...</td>\n",
       "    </tr>\n",
       "    <tr>\n",
       "      <th>1048570</th>\n",
       "      <td>21197</td>\n",
       "      <td>114293</td>\n",
       "      <td>5</td>\n",
       "      <td>15</td>\n",
       "      <td>7</td>\n",
       "      <td>34</td>\n",
       "      <td>49</td>\n",
       "      <td>2</td>\n",
       "      <td>80000.0</td>\n",
       "      <td>70000.0</td>\n",
       "      <td>2400</td>\n",
       "      <td>71</td>\n",
       "      <td>1</td>\n",
       "      <td>1</td>\n",
       "      <td>75.0</td>\n",
       "      <td>0</td>\n",
       "      <td>0</td>\n",
       "    </tr>\n",
       "    <tr>\n",
       "      <th>1048571</th>\n",
       "      <td>2479</td>\n",
       "      <td>4424</td>\n",
       "      <td>6</td>\n",
       "      <td>16</td>\n",
       "      <td>7</td>\n",
       "      <td>51</td>\n",
       "      <td>53</td>\n",
       "      <td>2</td>\n",
       "      <td>21000.0</td>\n",
       "      <td>19000.0</td>\n",
       "      <td>2423</td>\n",
       "      <td>45</td>\n",
       "      <td>0</td>\n",
       "      <td>1</td>\n",
       "      <td>24.0</td>\n",
       "      <td>0</td>\n",
       "      <td>0</td>\n",
       "    </tr>\n",
       "    <tr>\n",
       "      <th>1048572</th>\n",
       "      <td>480</td>\n",
       "      <td>500</td>\n",
       "      <td>1</td>\n",
       "      <td>2</td>\n",
       "      <td>1</td>\n",
       "      <td>11</td>\n",
       "      <td>31</td>\n",
       "      <td>2</td>\n",
       "      <td>0.0</td>\n",
       "      <td>0.0</td>\n",
       "      <td>500</td>\n",
       "      <td>173</td>\n",
       "      <td>0</td>\n",
       "      <td>1</td>\n",
       "      <td>140.0</td>\n",
       "      <td>0</td>\n",
       "      <td>0</td>\n",
       "    </tr>\n",
       "    <tr>\n",
       "      <th>1048573</th>\n",
       "      <td>51864</td>\n",
       "      <td>547889</td>\n",
       "      <td>4</td>\n",
       "      <td>12</td>\n",
       "      <td>7</td>\n",
       "      <td>42</td>\n",
       "      <td>16</td>\n",
       "      <td>2</td>\n",
       "      <td>100000.0</td>\n",
       "      <td>80000.0</td>\n",
       "      <td>10000</td>\n",
       "      <td>71</td>\n",
       "      <td>1</td>\n",
       "      <td>1</td>\n",
       "      <td>152.0</td>\n",
       "      <td>0</td>\n",
       "      <td>0</td>\n",
       "    </tr>\n",
       "    <tr>\n",
       "      <th>1048574</th>\n",
       "      <td>11377</td>\n",
       "      <td>63433</td>\n",
       "      <td>2</td>\n",
       "      <td>11</td>\n",
       "      <td>7</td>\n",
       "      <td>43</td>\n",
       "      <td>18</td>\n",
       "      <td>2</td>\n",
       "      <td>175000.0</td>\n",
       "      <td>60000.0</td>\n",
       "      <td>50000</td>\n",
       "      <td>71</td>\n",
       "      <td>1</td>\n",
       "      <td>1</td>\n",
       "      <td>112.0</td>\n",
       "      <td>0</td>\n",
       "      <td>0</td>\n",
       "    </tr>\n",
       "  </tbody>\n",
       "</table>\n",
       "<p>1048575 rows × 17 columns</p>\n",
       "</div>"
      ],
      "text/plain": [
       "         AvgAmount  MaxAmount  AvgCount  MaxCount  AccountType  ProductName  \\\n",
       "0            14203      32543        65       192            7           32   \n",
       "1            14203      32543        65       192            7           32   \n",
       "2            14203      32543        65       192            7           32   \n",
       "3            14203      32543        65       192            7           32   \n",
       "4            14203      32543        65       192            7           32   \n",
       "...            ...        ...       ...       ...          ...          ...   \n",
       "1048570      21197     114293         5        15            7           34   \n",
       "1048571       2479       4424         6        16            7           51   \n",
       "1048572        480        500         1         2            1           11   \n",
       "1048573      51864     547889         4        12            7           42   \n",
       "1048574      11377      63433         2        11            7           43   \n",
       "\n",
       "         BranchId  RiskLevel  DepositTotal    WTotal  Amount  CategoryName  \\\n",
       "0              89          2      160000.0  140000.0   20000             4   \n",
       "1              89          2      160000.0  140000.0      15             4   \n",
       "2              89          2      160000.0  140000.0      15             4   \n",
       "3              89          2      160000.0  140000.0   20000             4   \n",
       "4              89          2      160000.0  140000.0      15             4   \n",
       "...           ...        ...           ...       ...     ...           ...   \n",
       "1048570        49          2       80000.0   70000.0    2400            71   \n",
       "1048571        53          2       21000.0   19000.0    2423            45   \n",
       "1048572        31          2           0.0       0.0     500           173   \n",
       "1048573        16          2      100000.0   80000.0   10000            71   \n",
       "1048574        18          2      175000.0   60000.0   50000            71   \n",
       "\n",
       "         TransactionType  ScrCustomerType  LengthOfRelation  IsAlerted  \\\n",
       "0                      1                1              67.0          1   \n",
       "1                      1                1              67.0          1   \n",
       "2                      1                1              67.0          1   \n",
       "3                      1                1              67.0          1   \n",
       "4                      1                1              67.0          1   \n",
       "...                  ...              ...               ...        ...   \n",
       "1048570                1                1              75.0          0   \n",
       "1048571                0                1              24.0          0   \n",
       "1048572                0                1             140.0          0   \n",
       "1048573                1                1             152.0          0   \n",
       "1048574                1                1             112.0          0   \n",
       "\n",
       "         IsReported  \n",
       "0                 1  \n",
       "1                 1  \n",
       "2                 1  \n",
       "3                 1  \n",
       "4                 1  \n",
       "...             ...  \n",
       "1048570           0  \n",
       "1048571           0  \n",
       "1048572           0  \n",
       "1048573           0  \n",
       "1048574           0  \n",
       "\n",
       "[1048575 rows x 17 columns]"
      ]
     },
     "execution_count": 9,
     "metadata": {},
     "output_type": "execute_result"
    }
   ],
   "source": [
    "dataset"
   ]
  },
  {
   "cell_type": "code",
   "execution_count": 10,
   "id": "14410082",
   "metadata": {},
   "outputs": [
    {
     "data": {
      "text/plain": [
       "17"
      ]
     },
     "execution_count": 10,
     "metadata": {},
     "output_type": "execute_result"
    }
   ],
   "source": [
    "#checking for negative value\n",
    "\n",
    "(dataset['AvgAmount'] < 0).sum()"
   ]
  },
  {
   "cell_type": "code",
   "execution_count": 11,
   "id": "2827841c",
   "metadata": {},
   "outputs": [
    {
     "data": {
      "text/plain": [
       "3846"
      ]
     },
     "execution_count": 11,
     "metadata": {},
     "output_type": "execute_result"
    }
   ],
   "source": [
    "(dataset['Amount'] < 0).sum()"
   ]
  },
  {
   "cell_type": "code",
   "execution_count": 12,
   "id": "093a2ff1",
   "metadata": {},
   "outputs": [],
   "source": [
    "#drop rows containing negative values\n",
    "\n",
    "indexName1 = dataset[ (dataset['AvgAmount'] <0) ].index          #avgamount\n",
    "dataset.drop(indexName1 , inplace=True)\n",
    "\n",
    "indexName2 = dataset[ (dataset['Amount'] <0) ].index             #amount\n",
    "dataset.drop(indexName2 , inplace=True)"
   ]
  },
  {
   "cell_type": "code",
   "execution_count": 13,
   "id": "78421fd1",
   "metadata": {},
   "outputs": [
    {
     "data": {
      "text/plain": [
       "0"
      ]
     },
     "execution_count": 13,
     "metadata": {},
     "output_type": "execute_result"
    }
   ],
   "source": [
    "(dataset < 0).sum().sum()"
   ]
  },
  {
   "cell_type": "code",
   "execution_count": 14,
   "id": "806ee7fa",
   "metadata": {},
   "outputs": [
    {
     "data": {
      "text/plain": [
       "(1044712, 17)"
      ]
     },
     "execution_count": 14,
     "metadata": {},
     "output_type": "execute_result"
    }
   ],
   "source": [
    "dataset.shape"
   ]
  },
  {
   "cell_type": "code",
   "execution_count": 15,
   "id": "aafc2e7b",
   "metadata": {},
   "outputs": [
    {
     "data": {
      "text/plain": [
       "5489963"
      ]
     },
     "execution_count": 15,
     "metadata": {},
     "output_type": "execute_result"
    }
   ],
   "source": [
    "#count rows which values are less than 1000\n",
    "\n",
    "dataset[dataset['Amount'] < 1000].count().sum()"
   ]
  },
  {
   "cell_type": "code",
   "execution_count": 16,
   "id": "ca231d1e",
   "metadata": {},
   "outputs": [],
   "source": [
    "#eliminate rows which values are less than 1000\n",
    "\n",
    "dataset.drop(dataset[dataset['Amount'] < 1000].index, inplace=True)"
   ]
  },
  {
   "cell_type": "code",
   "execution_count": 17,
   "id": "579690c1",
   "metadata": {},
   "outputs": [
    {
     "data": {
      "text/plain": [
       "0"
      ]
     },
     "execution_count": 17,
     "metadata": {},
     "output_type": "execute_result"
    }
   ],
   "source": [
    "dataset[dataset['Amount'] < 1000].count().sum()"
   ]
  },
  {
   "cell_type": "code",
   "execution_count": 18,
   "id": "59c7ff2c",
   "metadata": {},
   "outputs": [
    {
     "data": {
      "text/plain": [
       "(721773, 17)"
      ]
     },
     "execution_count": 18,
     "metadata": {},
     "output_type": "execute_result"
    }
   ],
   "source": [
    "dataset.shape"
   ]
  },
  {
   "cell_type": "code",
   "execution_count": 19,
   "id": "85236ebf",
   "metadata": {},
   "outputs": [
    {
     "data": {
      "text/plain": [
       "AvgAmount            0\n",
       "MaxAmount            0\n",
       "AvgCount             0\n",
       "MaxCount             0\n",
       "AccountType          0\n",
       "ProductName          0\n",
       "BranchId             0\n",
       "RiskLevel            0\n",
       "DepositTotal         0\n",
       "WTotal               0\n",
       "Amount               0\n",
       "CategoryName         0\n",
       "TransactionType      0\n",
       "ScrCustomerType      0\n",
       "LengthOfRelation    12\n",
       "IsAlerted            0\n",
       "IsReported           0\n",
       "dtype: int64"
      ]
     },
     "execution_count": 19,
     "metadata": {},
     "output_type": "execute_result"
    }
   ],
   "source": [
    "#checking null values\n",
    "\n",
    "dataset.isnull().sum()"
   ]
  },
  {
   "cell_type": "code",
   "execution_count": 20,
   "id": "23f28ce1",
   "metadata": {},
   "outputs": [],
   "source": [
    "#eleminating row wise 'null values'\n",
    "\n",
    "dataset = dataset.dropna()"
   ]
  },
  {
   "cell_type": "code",
   "execution_count": 21,
   "id": "116e3a3b",
   "metadata": {},
   "outputs": [
    {
     "data": {
      "text/plain": [
       "0"
      ]
     },
     "execution_count": 21,
     "metadata": {},
     "output_type": "execute_result"
    }
   ],
   "source": [
    "#checking null values\n",
    "\n",
    "dataset.isnull().sum().sum()"
   ]
  },
  {
   "cell_type": "code",
   "execution_count": 22,
   "id": "70f46c21",
   "metadata": {},
   "outputs": [
    {
     "data": {
      "text/plain": [
       "(721761, 17)"
      ]
     },
     "execution_count": 22,
     "metadata": {},
     "output_type": "execute_result"
    }
   ],
   "source": [
    "dataset.shape"
   ]
  },
  {
   "cell_type": "code",
   "execution_count": 23,
   "id": "beb94f81",
   "metadata": {},
   "outputs": [],
   "source": [
    "#selecting features and target\n",
    "\n",
    "x = dataset.iloc[:,:-1]\n",
    "y = dataset.iloc[:,16]"
   ]
  },
  {
   "cell_type": "code",
   "execution_count": 24,
   "id": "0e9cdf9c",
   "metadata": {},
   "outputs": [
    {
     "data": {
      "text/plain": [
       "0    721265\n",
       "1       496\n",
       "Name: IsReported, dtype: int64"
      ]
     },
     "execution_count": 24,
     "metadata": {},
     "output_type": "execute_result"
    }
   ],
   "source": [
    "y.value_counts()"
   ]
  },
  {
   "cell_type": "code",
   "execution_count": 25,
   "id": "fb15adb8",
   "metadata": {},
   "outputs": [
    {
     "data": {
      "text/plain": [
       "<AxesSubplot: xlabel='IsReported', ylabel='count'>"
      ]
     },
     "execution_count": 25,
     "metadata": {},
     "output_type": "execute_result"
    },
    {
     "data": {
      "image/png": "[encoded data removed]",
      "text/plain": [
       "<Figure size 640x480 with 1 Axes>"
      ]
     },
     "metadata": {},
     "output_type": "display_data"
    }
   ],
   "source": [
    "sns.countplot(x=y)"
   ]
  },
  {
   "cell_type": "code",
   "execution_count": 26,
   "id": "3fd92c32",
   "metadata": {},
   "outputs": [],
   "source": [
    "x = x.values\n",
    "y= y.values"
   ]
  },
  {
   "cell_type": "code",
   "execution_count": 27,
   "id": "9906eafb",
   "metadata": {},
   "outputs": [],
   "source": [
    "#test-train split\n",
    "\n",
    "from sklearn.model_selection import train_test_split, cross_val_score\n",
    "x_train, x_test, y_train, y_test = train_test_split(x, y, test_size=0.2)"
   ]
  },
  {
   "cell_type": "code",
   "execution_count": 28,
   "id": "27a0c30f",
   "metadata": {
    "scrolled": true
   },
   "outputs": [],
   "source": [
    "#Random oversampling \n",
    "\n",
    "from imblearn.over_sampling import RandomOverSampler\n",
    "re_smp_ro = RandomOverSampler(random_state = 0)\n",
    "x_train_ro, y_train_ro = re_smp_ro.fit_resample(x_train, y_train)"
   ]
  },
  {
   "cell_type": "code",
   "execution_count": 29,
   "id": "3253e581",
   "metadata": {},
   "outputs": [
    {
     "data": {
      "text/plain": [
       "<AxesSubplot: ylabel='count'>"
      ]
     },
     "execution_count": 29,
     "metadata": {},
     "output_type": "execute_result"
    },
    {
     "data": {
      "image/png": "[encoded data removed]",
      "text/plain": [
       "<Figure size 640x480 with 1 Axes>"
      ]
     },
     "metadata": {},
     "output_type": "display_data"
    }
   ],
   "source": [
    "sns.countplot(x=y_train_ro)"
   ]
  },
  {
   "cell_type": "code",
   "execution_count": 30,
   "id": "d087c296",
   "metadata": {},
   "outputs": [],
   "source": [
    "#scalling\n",
    "\n",
    "from sklearn.preprocessing import StandardScaler\n",
    "sc_x = StandardScaler()\n",
    "x_train = sc_x.fit_transform(x_train)   #without sampling\n",
    "# x_train_ro = sc_x.fit_transform(x_train_ro) #with sampling\n",
    "x_test = sc_x.transform(x_test)"
   ]
  },
  {
   "cell_type": "code",
   "execution_count": 31,
   "id": "caa0ae04",
   "metadata": {
    "scrolled": true
   },
   "outputs": [],
   "source": [
    "#applying ANN model\n",
    "\n",
    "from keras.models import Sequential\n",
    "from keras.layers import Dense\n",
    "\n",
    "#initial ann\n",
    "\n",
    "classifier = Sequential()\n",
    "\n",
    "#adding input & hiddenlayer\n",
    "\n",
    "classifier.add(Dense(units = 11, activation = 'relu', input_dim = 16))\n",
    "\n",
    "#addin 2nd hidden layer\n",
    "\n",
    "classifier.add(Dense(units =11, activation = 'relu'))\n",
    "\n",
    "#addin 3rd hidden layer\n",
    "\n",
    "classifier.add(Dense(units =11, activation = 'relu'))\n",
    "\n",
    "#output layer\n",
    "\n",
    "classifier.add(Dense(units = 1, activation = 'sigmoid'))\n",
    "\n",
    "#compile ann\n",
    "\n",
    "classifier.compile(optimizer = 'adam', loss = 'binary_crossentropy', metrics = ['accuracy'])"
   ]
  },
  {
   "cell_type": "code",
   "execution_count": 32,
   "id": "4e2c6c08",
   "metadata": {},
   "outputs": [
    {
     "name": "stdout",
     "output_type": "stream",
     "text": [
      "Model: \"sequential\"\n",
      "_________________________________________________________________\n",
      " Layer (type)                Output Shape              Param #   \n",
      "=================================================================\n",
      " dense (Dense)               (None, 11)                187       \n",
      "                                                                 \n",
      " dense_1 (Dense)             (None, 11)                132       \n",
      "                                                                 \n",
      " dense_2 (Dense)             (None, 11)                132       \n",
      "                                                                 \n",
      " dense_3 (Dense)             (None, 1)                 12        \n",
      "                                                                 \n",
      "=================================================================\n",
      "Total params: 463\n",
      "Trainable params: 463\n",
      "Non-trainable params: 0\n",
      "_________________________________________________________________\n"
     ]
    }
   ],
   "source": [
    "classifier.summary()"
   ]
  },
  {
   "cell_type": "code",
   "execution_count": 33,
   "id": "d469b3ca",
   "metadata": {},
   "outputs": [
    {
     "name": "stdout",
     "output_type": "stream",
     "text": [
      "Epoch 1/10\n",
      "1155/1155 [==============================] - 3s 2ms/step - loss: 0.0616 - accuracy: 0.9804\n",
      "Epoch 2/10\n",
      "1155/1155 [==============================] - 2s 2ms/step - loss: 0.0037 - accuracy: 0.9993\n",
      "Epoch 3/10\n",
      "1155/1155 [==============================] - 2s 2ms/step - loss: 0.0034 - accuracy: 0.9993\n",
      "Epoch 4/10\n",
      "1155/1155 [==============================] - 2s 2ms/step - loss: 0.0032 - accuracy: 0.9993\n",
      "Epoch 5/10\n",
      "1155/1155 [==============================] - 2s 2ms/step - loss: 0.0030 - accuracy: 0.9993\n",
      "Epoch 6/10\n",
      "1155/1155 [==============================] - 2s 2ms/step - loss: 0.0029 - accuracy: 0.9993\n",
      "Epoch 7/10\n",
      "1155/1155 [==============================] - 2s 2ms/step - loss: 0.0028 - accuracy: 0.9993\n",
      "Epoch 8/10\n",
      "1155/1155 [==============================] - 2s 2ms/step - loss: 0.0027 - accuracy: 0.9994\n",
      "Epoch 9/10\n",
      "1155/1155 [==============================] - 2s 2ms/step - loss: 0.0027 - accuracy: 0.9994\n",
      "Epoch 10/10\n",
      "1155/1155 [==============================] - 2s 2ms/step - loss: 0.0026 - accuracy: 0.9994\n",
      "4512/4512 [==============================] - 6s 1ms/step\n"
     ]
    }
   ],
   "source": [
    "#fit to train set\n",
    "\n",
    "classifier.fit(x_train, y_train, batch_size = 500, epochs = 10)    #without sampling\n",
    "# classifier.fit(x_train_ro, y_train_ro, batch_size = 500, epochs = 10)  #with sampling\n",
    "y_pred = classifier.predict(x_test)"
   ]
  },
  {
   "cell_type": "code",
   "execution_count": 34,
   "id": "380e78c9",
   "metadata": {},
   "outputs": [
    {
     "name": "stderr",
     "output_type": "stream",
     "text": [
      "C:\\ML_Project\\AML_ML\\venv\\lib\\site-packages\\sklearn\\metrics\\_classification.py:1344: UndefinedMetricWarning: Precision and F-score are ill-defined and being set to 0.0 in labels with no predicted samples. Use `zero_division` parameter to control this behavior.\n",
      "  _warn_prf(average, modifier, msg_start, len(result))\n",
      "C:\\ML_Project\\AML_ML\\venv\\lib\\site-packages\\sklearn\\metrics\\_classification.py:1344: UndefinedMetricWarning: Precision and F-score are ill-defined and being set to 0.0 in labels with no predicted samples. Use `zero_division` parameter to control this behavior.\n",
      "  _warn_prf(average, modifier, msg_start, len(result))\n",
      "C:\\ML_Project\\AML_ML\\venv\\lib\\site-packages\\sklearn\\metrics\\_classification.py:1344: UndefinedMetricWarning: Precision and F-score are ill-defined and being set to 0.0 in labels with no predicted samples. Use `zero_division` parameter to control this behavior.\n",
      "  _warn_prf(average, modifier, msg_start, len(result))\n"
     ]
    }
   ],
   "source": [
    "#confusion matrix\n",
    "\n",
    "from sklearn.metrics import classification_report, confusion_matrix\n",
    "cm=confusion_matrix(y_test,np.argmax(y_pred, axis = 1))\n",
    "cr=classification_report(y_test,np.argmax(y_pred, axis = 1))"
   ]
  },
  {
   "cell_type": "code",
   "execution_count": 35,
   "id": "b2a40713",
   "metadata": {},
   "outputs": [
    {
     "name": "stdout",
     "output_type": "stream",
     "text": [
      "[[144242      0]\n",
      " [   111      0]]\n"
     ]
    },
    {
     "data": {
      "image/png": "[encoded data removed]",
      "text/plain": [
       "<Figure size 500x400 with 2 Axes>"
      ]
     },
     "metadata": {},
     "output_type": "display_data"
    }
   ],
   "source": [
    "print(cm)\n",
    "\n",
    "plt.figure(figsize = (5,4))\n",
    "sns.set(font_scale=1) # for label size\n",
    "sns.heatmap(cm, annot=True, fmt='g', annot_kws={\"size\": 16}) # font size\n",
    "\n",
    "plt.show()"
   ]
  },
  {
   "cell_type": "code",
   "execution_count": 36,
   "id": "d40cd3bf",
   "metadata": {},
   "outputs": [
    {
     "name": "stdout",
     "output_type": "stream",
     "text": [
      "              precision    recall  f1-score   support\n",
      "\n",
      "           0       1.00      1.00      1.00    144242\n",
      "           1       0.00      0.00      0.00       111\n",
      "\n",
      "    accuracy                           1.00    144353\n",
      "   macro avg       0.50      0.50      0.50    144353\n",
      "weighted avg       1.00      1.00      1.00    144353\n",
      "\n"
     ]
    }
   ],
   "source": [
    "print(cr)"
   ]
  },
  {
   "cell_type": "code",
   "execution_count": 37,
   "id": "9c1456d9",
   "metadata": {},
   "outputs": [
    {
     "data": {
      "text/plain": [
       "0.994588611156601"
      ]
     },
     "execution_count": 37,
     "metadata": {},
     "output_type": "execute_result"
    }
   ],
   "source": [
    "#AUC score\n",
    "\n",
    "from sklearn.metrics import roc_auc_score\n",
    "roc_auc_score(y_test, y_pred)"
   ]
  },
  {
   "cell_type": "code",
   "execution_count": 38,
   "id": "9e3a258e",
   "metadata": {},
   "outputs": [],
   "source": [
    "#ROC curve initiate\n",
    "\n",
    "from sklearn.metrics import roc_curve\n",
    "fpr_keras, tpr_keras, thresholds_keras = roc_curve(y_test, y_pred)"
   ]
  },
  {
   "cell_type": "code",
   "execution_count": 39,
   "id": "4eaca90d",
   "metadata": {},
   "outputs": [
    {
     "data": {
      "image/png": "[encoded data removed]",
      "text/plain": [
       "<Figure size 640x480 with 1 Axes>"
      ]
     },
     "metadata": {},
     "output_type": "display_data"
    }
   ],
   "source": [
    "#plotting ROC curve\n",
    "\n",
    "from sklearn.metrics import auc\n",
    "auc_keras = auc(fpr_keras, tpr_keras)\n",
    "\n",
    "plt.figure(1)\n",
    "plt.plot([0, 1], [0, 1], 'k--')\n",
    "plt.plot(fpr_keras, tpr_keras, label='Keras (area = {:.3f})'.format(auc_keras))\n",
    "# plt.plot(fpr_rf, tpr_rf, label='RF (area = {:.3f})'.format(auc_rf))\n",
    "plt.xlabel('False positive rate')\n",
    "plt.ylabel('True positive rate')\n",
    "plt.title('ROC curve')\n",
    "plt.legend(loc='best')\n",
    "plt.show()"
   ]
  },
  {
   "cell_type": "code",
   "execution_count": 40,
   "id": "30bd976b",
   "metadata": {},
   "outputs": [],
   "source": [
    "# plt.figure(figsize=(10, 8))\n",
    "# plt.plot(history.classifier['acc'])\n",
    "# plt.plot(history.classifier['val_acc'])\n",
    "\n",
    "# plt.title('model accuracy')\n",
    "# plt.ylabel('accuracy')\n",
    "# plt.xlabel('epoch')\n",
    "# plt.legend(['train','validation'], loc = 'upper left')\n",
    "# plt.savefig('model_Accuracy.png')\n",
    "# plt.show()"
   ]
  },
  {
   "cell_type": "code",
   "execution_count": 41,
   "id": "fe4b8652",
   "metadata": {},
   "outputs": [],
   "source": [
    "# plt.figure(figsize=(10, 8))\n",
    "# plt.plot(history.classifier['loss'])\n",
    "# plt.plot(history.classifier['val_loss'])\n",
    "# plt.title('model loss')\n",
    "# plt.ylabel('loss')\n",
    "# plt.xlabel('epoch')\n",
    "# plt.legend(['train','validation'], loc = 'upper left')\n",
    "# plt.savefig('model_loss.png')\n",
    "# plt.show()"
   ]
  },
  {
   "cell_type": "code",
   "execution_count": null,
   "id": "c22373a1",
   "metadata": {},
   "outputs": [],
   "source": [
    "#............................................................................................................................#"
   ]
  },
  {
   "cell_type": "code",
   "execution_count": null,
   "id": "d5f2c9bc",
   "metadata": {},
   "outputs": [],
   "source": [
    "#testing"
   ]
  },
  {
   "cell_type": "code",
   "execution_count": 42,
   "id": "bfd0d372",
   "metadata": {},
   "outputs": [],
   "source": [
    "test_data = pd.read_csv(\"C:/ML_Project/Datasets/test.csv\")"
   ]
  },
  {
   "cell_type": "code",
   "execution_count": 43,
   "id": "755deb96",
   "metadata": {},
   "outputs": [
    {
     "data": {
      "text/html": [
       "<div>\n",
       "<style scoped>\n",
       "    .dataframe tbody tr th:only-of-type {\n",
       "        vertical-align: middle;\n",
       "    }\n",
       "\n",
       "    .dataframe tbody tr th {\n",
       "        vertical-align: top;\n",
       "    }\n",
       "\n",
       "    .dataframe thead th {\n",
       "        text-align: right;\n",
       "    }\n",
       "</style>\n",
       "<table border=\"1\" class=\"dataframe\">\n",
       "  <thead>\n",
       "    <tr style=\"text-align: right;\">\n",
       "      <th></th>\n",
       "      <th>AvgAmount</th>\n",
       "      <th>MaxAmount</th>\n",
       "      <th>AvgCount</th>\n",
       "      <th>MaxCount</th>\n",
       "      <th>AccountType</th>\n",
       "      <th>ProductName</th>\n",
       "      <th>BranchId</th>\n",
       "      <th>RiskLevel</th>\n",
       "      <th>DepositTotal</th>\n",
       "      <th>WTotal</th>\n",
       "      <th>Amount</th>\n",
       "      <th>CategoryName</th>\n",
       "      <th>TransactionType</th>\n",
       "      <th>ScrCustomerType</th>\n",
       "      <th>LengthOfRelation</th>\n",
       "      <th>IsAlerted</th>\n",
       "    </tr>\n",
       "  </thead>\n",
       "  <tbody>\n",
       "    <tr>\n",
       "      <th>0</th>\n",
       "      <td>54118</td>\n",
       "      <td>212503</td>\n",
       "      <td>38</td>\n",
       "      <td>107</td>\n",
       "      <td>Savings</td>\n",
       "      <td>EBL Power Savings</td>\n",
       "      <td>73</td>\n",
       "      <td>Low</td>\n",
       "      <td>170000</td>\n",
       "      <td>140000</td>\n",
       "      <td>265000</td>\n",
       "      <td>CHD</td>\n",
       "      <td>C</td>\n",
       "      <td>Individual</td>\n",
       "      <td>85</td>\n",
       "      <td>1</td>\n",
       "    </tr>\n",
       "    <tr>\n",
       "      <th>1</th>\n",
       "      <td>11414</td>\n",
       "      <td>22099</td>\n",
       "      <td>3</td>\n",
       "      <td>11</td>\n",
       "      <td>Savings</td>\n",
       "      <td>EBL SALARY</td>\n",
       "      <td>31</td>\n",
       "      <td>Low</td>\n",
       "      <td>35000</td>\n",
       "      <td>33000</td>\n",
       "      <td>20250</td>\n",
       "      <td>FTR</td>\n",
       "      <td>C</td>\n",
       "      <td>Individual</td>\n",
       "      <td>40</td>\n",
       "      <td>0</td>\n",
       "    </tr>\n",
       "  </tbody>\n",
       "</table>\n",
       "</div>"
      ],
      "text/plain": [
       "   AvgAmount  MaxAmount  AvgCount  MaxCount AccountType        ProductName  \\\n",
       "0      54118     212503        38       107     Savings  EBL Power Savings   \n",
       "1      11414      22099         3        11     Savings         EBL SALARY   \n",
       "\n",
       "   BranchId RiskLevel  DepositTotal  WTotal  Amount CategoryName  \\\n",
       "0        73       Low        170000  140000  265000          CHD   \n",
       "1        31       Low         35000   33000   20250          FTR   \n",
       "\n",
       "  TransactionType ScrCustomerType  LengthOfRelation  IsAlerted  \n",
       "0               C      Individual                85          1  \n",
       "1               C      Individual                40          0  "
      ]
     },
     "execution_count": 43,
     "metadata": {},
     "output_type": "execute_result"
    }
   ],
   "source": [
    "test_data"
   ]
  },
  {
   "cell_type": "code",
   "execution_count": 48,
   "id": "dc462e52",
   "metadata": {},
   "outputs": [],
   "source": [
    "from sklearn import preprocessing\n",
    "label_encoder = preprocessing.LabelEncoder()\n",
    "# from sklearn.compose import ColumnTransformer\n",
    "test_data['AccountType']= label_encoder.fit_transform(test_data['AccountType'])\n",
    "test_data['ProductName']= label_encoder.fit_transform(test_data['ProductName'])\n",
    "test_data['RiskLevel']= label_encoder.fit_transform(test_data['RiskLevel'])\n",
    "test_data['CategoryName']= label_encoder.fit_transform(test_data['CategoryName'])\n",
    "test_data['TransactionType']= label_encoder.fit_transform(test_data['TransactionType'])\n",
    "test_data['ScrCustomerType']= label_encoder.fit_transform(test_data['ScrCustomerType'])"
   ]
  },
  {
   "cell_type": "code",
   "execution_count": 49,
   "id": "4a91dd12",
   "metadata": {},
   "outputs": [
    {
     "data": {
      "text/html": [
       "<div>\n",
       "<style scoped>\n",
       "    .dataframe tbody tr th:only-of-type {\n",
       "        vertical-align: middle;\n",
       "    }\n",
       "\n",
       "    .dataframe tbody tr th {\n",
       "        vertical-align: top;\n",
       "    }\n",
       "\n",
       "    .dataframe thead th {\n",
       "        text-align: right;\n",
       "    }\n",
       "</style>\n",
       "<table border=\"1\" class=\"dataframe\">\n",
       "  <thead>\n",
       "    <tr style=\"text-align: right;\">\n",
       "      <th></th>\n",
       "      <th>AvgAmount</th>\n",
       "      <th>MaxAmount</th>\n",
       "      <th>AvgCount</th>\n",
       "      <th>MaxCount</th>\n",
       "      <th>AccountType</th>\n",
       "      <th>ProductName</th>\n",
       "      <th>BranchId</th>\n",
       "      <th>RiskLevel</th>\n",
       "      <th>DepositTotal</th>\n",
       "      <th>WTotal</th>\n",
       "      <th>Amount</th>\n",
       "      <th>CategoryName</th>\n",
       "      <th>TransactionType</th>\n",
       "      <th>ScrCustomerType</th>\n",
       "      <th>LengthOfRelation</th>\n",
       "      <th>IsAlerted</th>\n",
       "    </tr>\n",
       "  </thead>\n",
       "  <tbody>\n",
       "    <tr>\n",
       "      <th>0</th>\n",
       "      <td>54118</td>\n",
       "      <td>212503</td>\n",
       "      <td>38</td>\n",
       "      <td>107</td>\n",
       "      <td>0</td>\n",
       "      <td>0</td>\n",
       "      <td>73</td>\n",
       "      <td>0</td>\n",
       "      <td>170000</td>\n",
       "      <td>140000</td>\n",
       "      <td>265000</td>\n",
       "      <td>0</td>\n",
       "      <td>0</td>\n",
       "      <td>0</td>\n",
       "      <td>85</td>\n",
       "      <td>1</td>\n",
       "    </tr>\n",
       "    <tr>\n",
       "      <th>1</th>\n",
       "      <td>11414</td>\n",
       "      <td>22099</td>\n",
       "      <td>3</td>\n",
       "      <td>11</td>\n",
       "      <td>0</td>\n",
       "      <td>1</td>\n",
       "      <td>31</td>\n",
       "      <td>0</td>\n",
       "      <td>35000</td>\n",
       "      <td>33000</td>\n",
       "      <td>20250</td>\n",
       "      <td>1</td>\n",
       "      <td>0</td>\n",
       "      <td>0</td>\n",
       "      <td>40</td>\n",
       "      <td>0</td>\n",
       "    </tr>\n",
       "  </tbody>\n",
       "</table>\n",
       "</div>"
      ],
      "text/plain": [
       "   AvgAmount  MaxAmount  AvgCount  MaxCount  AccountType  ProductName  \\\n",
       "0      54118     212503        38       107            0            0   \n",
       "1      11414      22099         3        11            0            1   \n",
       "\n",
       "   BranchId  RiskLevel  DepositTotal  WTotal  Amount  CategoryName  \\\n",
       "0        73          0        170000  140000  265000             0   \n",
       "1        31          0         35000   33000   20250             1   \n",
       "\n",
       "   TransactionType  ScrCustomerType  LengthOfRelation  IsAlerted  \n",
       "0                0                0                85          1  \n",
       "1                0                0                40          0  "
      ]
     },
     "execution_count": 49,
     "metadata": {},
     "output_type": "execute_result"
    }
   ],
   "source": [
    "test_data"
   ]
  },
  {
   "cell_type": "code",
   "execution_count": 50,
   "id": "28c3cbcf",
   "metadata": {},
   "outputs": [
    {
     "data": {
      "text/plain": [
       "array([[ 54118, 212503,     38,    107,      0,      0,     73,      0,\n",
       "        170000, 140000, 265000,      0,      0,      0,     85,      1],\n",
       "       [ 11414,  22099,      3,     11,      0,      1,     31,      0,\n",
       "         35000,  33000,  20250,      1,      0,      0,     40,      0]],\n",
       "      dtype=int64)"
      ]
     },
     "execution_count": 50,
     "metadata": {},
     "output_type": "execute_result"
    }
   ],
   "source": [
    "test_data.values"
   ]
  },
  {
   "cell_type": "code",
   "execution_count": 51,
   "id": "a1ae9786",
   "metadata": {},
   "outputs": [
    {
     "name": "stdout",
     "output_type": "stream",
     "text": [
      "1/1 [==============================] - 0s 77ms/step\n"
     ]
    }
   ],
   "source": [
    "y_pred_test = classifier.predict(test_data)"
   ]
  },
  {
   "cell_type": "code",
   "execution_count": 52,
   "id": "ec07ab12",
   "metadata": {},
   "outputs": [
    {
     "data": {
      "text/plain": [
       "array([[0.],\n",
       "       [0.]], dtype=float32)"
      ]
     },
     "execution_count": 52,
     "metadata": {},
     "output_type": "execute_result"
    }
   ],
   "source": [
    "y_pred_test"
   ]
  },
  {
   "cell_type": "code",
   "execution_count": null,
   "id": "a6c2bed2",
   "metadata": {},
   "outputs": [],
   "source": []
  }
 ],
 "metadata": {
  "kernelspec": {
   "display_name": "Python 3 (ipykernel)",
   "language": "python",
   "name": "python3"
  },
  "language_info": {
   "codemirror_mode": {
    "name": "ipython",
    "version": 3
   },
   "file_extension": ".py",
   "mimetype": "text/x-python",
   "name": "python",
   "nbconvert_exporter": "python",
   "pygments_lexer": "ipython3",
   "version": "3.9.13"
  }
 },
 "nbformat": 4,
 "nbformat_minor": 5
}
